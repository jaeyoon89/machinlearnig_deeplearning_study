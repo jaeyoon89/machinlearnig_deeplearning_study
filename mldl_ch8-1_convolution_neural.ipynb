{
 "cells": [
  {
   "cell_type": "markdown",
   "id": "4c4fb76b",
   "metadata": {},
   "source": [
    "<center>\n",
    "<img src=\"https://tensorflowkorea.files.wordpress.com/2020/12/4.-e18492e185a9e186abe1848ce185a1-e18480e185a9e186bce18487e185aee18492e185a1e18482e185b3e186ab-e18486e185a5e18489e185b5e186abe18485e185a5e18482e185b5e186bce18483e185b5e186b8e18485e185a5e.png?w=972\" width=\"200\" height=\"200\"><br>\n",
    "</center>"
   ]
  },
  {
   "cell_type": "markdown",
   "id": "8e64bbe8",
   "metadata": {},
   "source": [
    "# Chapter.8  이미지를 위한 인공 신경망"
   ]
  },
  {
   "cell_type": "markdown",
   "id": "e19f69fd",
   "metadata": {},
   "source": [
    "## 08-1 합성곱 신경망의 구성 요소"
   ]
  },
  {
   "cell_type": "markdown",
   "id": "f1e15668",
   "metadata": {},
   "source": [
    "### - 합성곱"
   ]
  },
  {
   "cell_type": "markdown",
   "id": "f12e145b",
   "metadata": {},
   "source": [
    "합성곱은 마치 입력 데이터에 마법의 도장을 찍어서 유용한 특성만 드러나게 하는 것으로 드러나게 하는 것으로 비유할 수 있다. 그럼 여기서 합성곱의 동작 원리를 자세히 알아보자. 7장에서 사용한 밀집층에는 뉴런마다 입력 개수만큼의 가중치가 있다. 즉 모든 입력에 가중치를 곱한다."
   ]
  },
  {
   "cell_type": "markdown",
   "id": "93e96a09",
   "metadata": {},
   "source": [
    "인공 신경망은 처음에 가중치 w1 ~ w10과 절편 b를 랜덤하게 초기화한 다음 에포크를 반복하면서 경사 하강법 알고리즘을 사용하여 손실이 낮아지도록 최적의 가중치와 절편을 찾아간다. 이것이 바로 모델 훈련이다."
   ]
  },
  {
   "cell_type": "markdown",
   "id": "6deb4647",
   "metadata": {},
   "source": [
    "예를 들어 밀집층에 뉴런이 3개 있다면 출력은 3개가 된다. 입력 개수에 상관없이 동일하다. 7장에서 패션 MNIST 이미지에 있는 784개의 픽셀을 입력받는 은닉층의 뉴런 개수가 100개면 뉴런마다 하나씩 출력도 100개가 된다."
   ]
  },
  {
   "cell_type": "markdown",
   "id": "7e305f9f",
   "metadata": {},
   "source": [
    "합성곱은 밀집층의 계산과 조금 다르다. 입력 데이터 전체에 가중치를 적용하는 것이 아니라 일부에 가중치를 곱한다. "
   ]
  },
  {
   "cell_type": "markdown",
   "id": "2977932f",
   "metadata": {},
   "source": [
    "가중치 w1 ~ w3 이 입력의 처음 3개 특성과 곱해져 1개의 출력을 만든다. 그 다음은 이 뉴런이 한 칸 아래로 이동해 두 번째부터 네 번째 특성과 곱해져 새로운 출력을 만든다. 여기서 중요한 것은 첫 번째 합성곱에 사용된 가중치 w1 ~ w3 과 절편 b가 두 번째 합성곱에도 동일하게 사용된다."
   ]
  },
  {
   "cell_type": "markdown",
   "id": "64be58a2",
   "metadata": {},
   "source": [
    "이렇게 한 칸씩 아래로 이동하면서 출력을 만드는 것이 합성곱이다. 여기에서는 이 뉴런의 가중치가 3개이기 때문에 모두 8개의 출력이 만들어 진다."
   ]
  },
  {
   "cell_type": "markdown",
   "id": "3a0b4eda",
   "metadata": {},
   "source": [
    "밀집층의 뉴런은 입력 개수만큼 10개의 가중치를 가지고 1개의 출력을 만든다. 합성곱의 뉴런은 3개의 가중치를 가지고 8개의 출력을 만든다. 합성곱 층의 뉴런에 있는 가중치 개수는 정하기 나름이다. 즉 또 다른 하이퍼파라미터이다. "
   ]
  },
  {
   "cell_type": "markdown",
   "id": "f76873ab",
   "metadata": {},
   "source": [
    "합성곱 신경망에서는 완전 연결 신경망과 달리 뉴런을 필터라고 부른다. 혹은 커널이라고도 부른다. 커널은 입력에 곱하는 가중치이고, 필터는 뉴런 개수를 표현할 때 사용한다. "
   ]
  },
  {
   "cell_type": "markdown",
   "id": "9a6ceabb",
   "metadata": {},
   "source": [
    "입력이 2차원 배열이면 필터도 2차원이어야 한다. 2차원 배열을 가정하면 합성곱은 마치 도장을 찍듯이 왼쪽 위에서 오른쪽 맨 아래까지 이동하면서 출력을 만든다. 계산식은 밀집층과 크게 다르지 않다. 입력과 가중치의 행과 열을 맞추어 곱셈하고 모두 더하는게 전부이다. 합성곱 계산을 통해 얻은 출력을 특별히 특성 맵 이라고도 부른다. 밀집층에서 여러 개의 뉴런을 사용하듯이 합성곱 층에서도 여러 개의 필터를 사용한다."
   ]
  },
  {
   "cell_type": "markdown",
   "id": "f85738aa",
   "metadata": {},
   "source": [
    "밀집층에 있는 뉴런의 가중치가 모두 다르듯이 합성곱 층에 있는 필터의 가중치도 모두 다르다. "
   ]
  },
  {
   "cell_type": "markdown",
   "id": "68e43da2",
   "metadata": {},
   "source": [
    "### - 케라스 합성곱 층"
   ]
  },
  {
   "cell_type": "markdown",
   "id": "44bd3cbc",
   "metadata": {},
   "source": [
    "케라스의 층은 모두 keras.layers 패키지 아래 클래스로 구현되어 있다. 합성곱 층도 마찬가지이다. 특별히 입력 위를 이동하는 합성곱은 Conv2D 클래스로 제공한다."
   ]
  },
  {
   "cell_type": "code",
   "execution_count": 2,
   "id": "b16b6564",
   "metadata": {},
   "outputs": [
    {
     "name": "stdout",
     "output_type": "stream",
     "text": [
      "WARNING:tensorflow:From /home/jaeyoon89/.local/lib/python3.6/site-packages/tensorflow/python/ops/init_ops.py:1251: calling VarianceScaling.__init__ (from tensorflow.python.ops.init_ops) with dtype is deprecated and will be removed in a future version.\n",
      "Instructions for updating:\n",
      "Call initializer instance with the dtype argument instead of passing it to the constructor\n"
     ]
    },
    {
     "data": {
      "text/plain": [
       "<tensorflow.python.keras.layers.convolutional.Conv2D at 0x7fc1a947c470>"
      ]
     },
     "execution_count": 2,
     "metadata": {},
     "output_type": "execute_result"
    }
   ],
   "source": [
    "from tensorflow import keras\n",
    "keras.layers.Conv2D(10, kernel_size=(3,3), activation='relu')"
   ]
  },
  {
   "cell_type": "markdown",
   "id": "6c23ca81",
   "metadata": {},
   "source": [
    "Conv2D 클래스의 첫 번째 매개변수는 필터의 개수이다. kernel_size 매개변수는 필터에 사용할 커널의 크기를 지정한다. 필터의 개수와 커널의 크기는 반드시 지정해야 하는 매개변수이다. 마지막으로 밀집층에서처럼 활성화 함수를 지정한다. 여기에선 렐루 함수를 선택했다."
   ]
  },
  {
   "cell_type": "markdown",
   "id": "4c91868a",
   "metadata": {},
   "source": [
    "케라스 API 를 사용하면 합성곱 층을 사용하는 것이 어렵지 않다. 이전에 Dense 층을 사용했던 자리에 대신 Conv2D층을 넣으면 된다. 다만 kernel_size와 같이 추가적인 매개변수들은 고려해야 한다."
   ]
  },
  {
   "cell_type": "markdown",
   "id": "c09a9dc9",
   "metadata": {},
   "source": [
    "### - 패딩과 스트라이드"
   ]
  },
  {
   "cell_type": "markdown",
   "id": "a6d073fd",
   "metadata": {},
   "source": [
    "예를 들어 (4,4) 크기의 입력에 (3,3) 크기의 커널을 적용하여 출력의 크기를 동일하게 (4,4)로 만들려면 어떻게 해야할까?"
   ]
  },
  {
   "cell_type": "markdown",
   "id": "02f7548a",
   "metadata": {},
   "source": [
    "(4,4) 입력과 동일한 크기의 출력을 만들려면 마치 더 큰 입력에 합성곱하는 척해야한다. 입력 배열의 주위를 가상의 원소로 채우는 것을 패딩이라고 한다. 실제 입력값이 아니기 때문에 패딩은 0으로 채워준다. 패딩의 역할은 순전히 커널이 도장을 찍을 횟수를 늘려주는 것밖에는 없다. 실제 값은 0으로 채워져 있기 때문에 계산에 영향을 미치지는 않는다."
   ]
  },
  {
   "cell_type": "markdown",
   "id": "269b6293",
   "metadata": {},
   "source": [
    "이렇게 입력과 특성 맵의 크기를 동일하게 만들기 위해 입력 주위에 0으로 패딩 하는 것을 세임 패딩이라고 부른다. 합성곱 신경망에서는 세임 패딩이 많이 사용된다. 패딩없이 순수한 입력 배열에서만 합성곱을 하여 특성 맵을 만드는 경우를 밸리드 패딩이라고 한다. 밸리드 패딩은 특성 맵의 크기가 줄어들 수 밖에 없다."
   ]
  },
  {
   "cell_type": "markdown",
   "id": "4f3c1512",
   "metadata": {},
   "source": [
    "적절한 패딩은 이미지의 주변에 있는 정보를 잃어버리지 않도록 도와준다. 앞에서도 언급했지만 일반적인 합성곱 신경망에서는 세임 패딩이 많이 사용된다. 케라스 Conv2D 클래스에서는 padding 매개변수로 패딩을 지정할 수 있다. 기본값은 valid로 밸리드 패딩을 나타낸다. 세임 패딩을 사용하려면 same 으로 지정한다."
   ]
  },
  {
   "cell_type": "code",
   "execution_count": 3,
   "id": "ce5f8c3a",
   "metadata": {},
   "outputs": [
    {
     "data": {
      "text/plain": [
       "<tensorflow.python.keras.layers.convolutional.Conv2D at 0x7fc1a947cd30>"
      ]
     },
     "execution_count": 3,
     "metadata": {},
     "output_type": "execute_result"
    }
   ],
   "source": [
    "keras.layers.Conv2D(10, kernel_size=(3,3), activation='relu', padding='same')"
   ]
  },
  {
   "cell_type": "markdown",
   "id": "55a2710b",
   "metadata": {},
   "source": [
    "지금까지 합성곱 연산은 좌우, 위아래로 한 칸씩 이동하였다. 하지만 두 칸씩 건너뛸 수도 있다. 이렇게 두 칸씩 이동하면 만들어지는 특성 맵의 크기는 더 작아진다. 이런 이동의 크기를 스트라이드라고 한다. 기본으로 스트라이드는 1이다. 즉 한 칸씩 이동한다. 이 값이 Conv2D의 strides 매개변수의 기본값이다."
   ]
  },
  {
   "cell_type": "code",
   "execution_count": 4,
   "id": "0bd686d6",
   "metadata": {},
   "outputs": [
    {
     "data": {
      "text/plain": [
       "<tensorflow.python.keras.layers.convolutional.Conv2D at 0x7fc1a9369320>"
      ]
     },
     "execution_count": 4,
     "metadata": {},
     "output_type": "execute_result"
    }
   ],
   "source": [
    "keras.layers.Conv2D(10, kernel_size=(3,3), activation='relu', padding='same', strides=1)"
   ]
  },
  {
   "cell_type": "markdown",
   "id": "64820404",
   "metadata": {},
   "source": [
    "strides 매개변수는 오른쪽으로 이동하는 크기와 아래쪽으로 이동하는 크기를 (1,1)과 같이 튜플을 사용해 각각 지정할 수 있다. 하지만 커널의 이동 크기를 가로세로 방향으로 다르게 지정하는 경우는 거의 없다. 또 1보다 큰 스트라이드를 사용하는 경우도 드물다. 대부분 기본값을 그대로 사용하기 때문에 strides 매개변수는 잘 사용하지 않는다."
   ]
  },
  {
   "cell_type": "markdown",
   "id": "1d02a741",
   "metadata": {},
   "source": [
    "### - 풀링"
   ]
  },
  {
   "cell_type": "markdown",
   "id": "7c3df1be",
   "metadata": {},
   "source": [
    "풀링은 합성곱 층에서 만든 특성 맵의 가로세로 크기를 줄이는 역할을 수행한다. 하지만 특성맵의 개수는 줄이지 않는다. 예를 들면 (2,2,3) 크기의 특성 맵에 풀링을 적용하면 마지막 차원인 개수는 그대로 유지하고 너비와 높이만 줄어들어 (1,1,3) 크기의 특성 맵이 된다."
   ]
  },
  {
   "cell_type": "markdown",
   "id": "422ab35c",
   "metadata": {},
   "source": [
    "풀링도 합성곱처럽 입력 위를 지나가면서 도장을 찍는다. 하지만 풀링에는 가중치가 없다. 도장을 찍은 영역에서 가장 큰 값을 고르거나 평균값을 계산한다. 이를 각각 최대 풀링, 평균 풀링이라고 부른다. 풀링은 합성곱 층과 뚜렷이 구분되기 때문에 풀링 층이라고 부른다."
   ]
  },
  {
   "cell_type": "markdown",
   "id": "fa9c0575",
   "metadata": {},
   "source": [
    "풀링의 크기가 (2,2) 이면 가로세로 두 칸씩 이동한다. 즉 스트라이드가 2이다. (3,3) 풀링이면 가로세로 세 칸씩 이동한다. 풀링은 가중치가 없고 풀링 크기와 스트라이드가 같기 때문에 이해하기 쉽다. 또 패딩도 없다. 케라스에서는 MaxPooling2D 클래스로 풀링을 수행할 수 있다."
   ]
  },
  {
   "cell_type": "code",
   "execution_count": 5,
   "id": "2e49cf5b",
   "metadata": {},
   "outputs": [
    {
     "data": {
      "text/plain": [
       "<tensorflow.python.keras.layers.pooling.MaxPooling2D at 0x7fc2381b2160>"
      ]
     },
     "execution_count": 5,
     "metadata": {},
     "output_type": "execute_result"
    }
   ],
   "source": [
    "keras.layers.MaxPooling2D(2)"
   ]
  },
  {
   "cell_type": "markdown",
   "id": "64ce30a5",
   "metadata": {},
   "source": [
    "합성곱 층과 마찬가지로 strides와 padding 매개변수를 제공한다. strides의 기본값은 자동으로 풀링의 크기이므로 따로 지정할 필요는 없다. padding의 기본값은 valid로 패딩을 하지 않는다. 풀링은 패딩을 하지 않기 때문에 이 매개변수를 바꾸는 경우는 거의 없다. 예를 들어 바로 이전에 쓴 최대 풀링과 같은 코드는 다음과 같다."
   ]
  },
  {
   "cell_type": "code",
   "execution_count": 6,
   "id": "b1075f3e",
   "metadata": {},
   "outputs": [
    {
     "data": {
      "text/plain": [
       "<tensorflow.python.keras.layers.pooling.MaxPooling2D at 0x7fc1a9369358>"
      ]
     },
     "execution_count": 6,
     "metadata": {},
     "output_type": "execute_result"
    }
   ],
   "source": [
    "keras.layers.MaxPooling2D(2, strides=2, padding='valid')"
   ]
  },
  {
   "cell_type": "markdown",
   "id": "46ce5631",
   "metadata": {},
   "source": [
    "평균 풀링을 제공하는 클래스는 AveragePooling2D이다. 최댓값 대신 평균을 계산하는 것만 빼면 MaxPooling2D와 동일하며 제공하는 매개변수도 같다. 많은 경우 평균 풀링보다 최대 풀링을 많이 사용한다."
   ]
  },
  {
   "cell_type": "markdown",
   "id": "997df15b",
   "metadata": {},
   "source": [
    "## 08-2 합성곱 신경망을 사용한 이미지 분류"
   ]
  },
  {
   "cell_type": "markdown",
   "id": "acdc5f65",
   "metadata": {},
   "source": [
    "### - 패션 MNIST 데이터 불러오기"
   ]
  },
  {
   "cell_type": "markdown",
   "id": "3dd3439e",
   "metadata": {},
   "source": [
    "앞서 MNIST 데이터를 불러온 후 데이터 스케일을 0 ~ 255 사이에서 0 ~ 1 사이로 바꾸고 훈련 세트와 검증 세트로 나눈다."
   ]
  },
  {
   "cell_type": "markdown",
   "id": "8bd6ae32",
   "metadata": {},
   "source": [
    "그리고 완전 연결 신경망에서는 입력 이미지를 밀집층에 연결하기 위해 일렬로 펼쳐야 한다. 이 작업을 위해 넘파이 reshape() 메서드나 Flatten 클래스를 사용한다. 그리고 입력 이미지는 항상 깊이 차원이 있어야 한다. 흑백 이미지의 경우 채널 차원이 없는 2차원 배열이지만 Conv2D 층을 사용하기 위해 마지막에 이 채널 차원을 추가해야 한다. 넘파이 reshape() 메서드를 사용해 전체 배열 차원을 그대로 유지하면서 마지막에 차원을 간단히 추가할 수 있다."
   ]
  },
  {
   "cell_type": "code",
   "execution_count": 7,
   "id": "47e068d7",
   "metadata": {},
   "outputs": [],
   "source": [
    "from tensorflow import keras\n",
    "from sklearn.model_selection import train_test_split\n",
    "(train_input, train_target), (test_inpurt, test_target) = keras.datasets.fashion_mnist.load_data()\n",
    "train_scaled = train_input.reshape(-1,28,28,1) / 255.0\n",
    "train_scaled, val_scaled, train_target, val_target = train_test_split(\n",
    "    train_scaled, train_target, test_size=0.2, random_state=42)"
   ]
  },
  {
   "cell_type": "markdown",
   "id": "2cea7e7e",
   "metadata": {},
   "source": [
    "이제 (48000,28,28) 크기인 train_input이 (48000,28,28,1) 크기인 train_scaled가 되었다."
   ]
  },
  {
   "cell_type": "code",
   "execution_count": null,
   "id": "470748c7",
   "metadata": {},
   "outputs": [],
   "source": []
  }
 ],
 "metadata": {
  "kernelspec": {
   "display_name": "Python 3",
   "language": "python",
   "name": "python3"
  },
  "language_info": {
   "codemirror_mode": {
    "name": "ipython",
    "version": 3
   },
   "file_extension": ".py",
   "mimetype": "text/x-python",
   "name": "python",
   "nbconvert_exporter": "python",
   "pygments_lexer": "ipython3",
   "version": "3.6.9"
  }
 },
 "nbformat": 4,
 "nbformat_minor": 5
}
