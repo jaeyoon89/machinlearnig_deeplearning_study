{
 "cells": [
  {
   "cell_type": "markdown",
   "id": "broken-facing",
   "metadata": {},
   "source": [
    "<center>\n",
    "<img src=\"https://tensorflowkorea.files.wordpress.com/2020/12/4.-e18492e185a9e186abe1848ce185a1-e18480e185a9e186bce18487e185aee18492e185a1e18482e185b3e186ab-e18486e185a5e18489e185b5e186abe18485e185a5e18482e185b5e186bce18483e185b5e186b8e18485e185a5e.png?w=972\" width=\"200\" height=\"200\"><br>\n",
    "</center>"
   ]
  },
  {
   "cell_type": "markdown",
   "id": "eligible-newport",
   "metadata": {},
   "source": [
    "## 06-2 k-평균"
   ]
  },
  {
   "cell_type": "markdown",
   "id": "exempt-chair",
   "metadata": {},
   "source": [
    "앞에서 사과, 파인애플, 바나나에 있는 각 픽셀의 평균값을 구해서 가장 가까운 사진을 골랐다. 이 경우에는 사과, 파인애플, 바나나 사진임을 미리 알고 있었기 때문에 각 과일의 평균을 구할 수 있었다. 하지만 진짜 비지도 학습에서는 사진에 어떤 과일이 들어 있는지 알지 못한다."
   ]
  },
  {
   "cell_type": "markdown",
   "id": "identified-constant",
   "metadata": {},
   "source": [
    "이런 경우 k-평균 군집 알고리즘이 평균값을 자동으로 찾아준다. 이 평균값이 클러스터의 중심에 위치하기 때문에 클러스터 중심 또는 센트로이드라고 부른다."
   ]
  },
  {
   "cell_type": "markdown",
   "id": "functional-poison",
   "metadata": {},
   "source": [
    "### - k-평균 알고리즘 소개"
   ]
  },
  {
   "cell_type": "markdown",
   "id": "hairy-passport",
   "metadata": {},
   "source": [
    "k-평균 알고리즘의 작동 방식은 다음과 같다."
   ]
  },
  {
   "cell_type": "markdown",
   "id": "careful-albert",
   "metadata": {},
   "source": [
    "- 1. 무작위로 k개의 클러스터 중심을 정한다.\n",
    "- 2. 각 샘플에서 가장 가까운 클러스터 중심을 찾아 해당 클러스터의 샘플로 저장한다.\n",
    "- 3. 클러스터에 속한 샘플의 평균값으로 클러스터 중심을 변경한다.\n",
    "- 4. 클러스터 중심에 변화가 없을 때까지 2번으로 돌아가 반복한다."
   ]
  },
  {
   "cell_type": "markdown",
   "id": "aggregate-representative",
   "metadata": {},
   "source": [
    "### - KMeans 클래스"
   ]
  },
  {
   "cell_type": "markdown",
   "id": "adverse-gregory",
   "metadata": {},
   "source": [
    "앞서 사용했던 wget 명령으로 데이터를 다운로드 한다."
   ]
  },
  {
   "cell_type": "code",
   "execution_count": 1,
   "id": "stunning-learning",
   "metadata": {},
   "outputs": [
    {
     "name": "stdout",
     "output_type": "stream",
     "text": [
      "--2021-05-05 18:14:40--  https://bit.ly/fruits_300_data\n",
      "Resolving bit.ly (bit.ly)... 67.199.248.10\n",
      "Connecting to bit.ly (bit.ly)|67.199.248.10|:443... connected.\n",
      "HTTP request sent, awaiting response... 301 Moved Permanently\n",
      "Location: https://github.com/rickiepark/hg-mldl/raw/master/fruits_300.npy [following]\n",
      "--2021-05-05 18:14:40--  https://github.com/rickiepark/hg-mldl/raw/master/fruits_300.npy\n",
      "Resolving github.com (github.com)... 52.78.231.108\n",
      "Connecting to github.com (github.com)|52.78.231.108|:443... connected.\n",
      "HTTP request sent, awaiting response... 302 Found\n",
      "Location: https://raw.githubusercontent.com/rickiepark/hg-mldl/master/fruits_300.npy [following]\n",
      "--2021-05-05 18:14:41--  https://raw.githubusercontent.com/rickiepark/hg-mldl/master/fruits_300.npy\n",
      "Resolving raw.githubusercontent.com (raw.githubusercontent.com)... 185.199.110.133\n",
      "Connecting to raw.githubusercontent.com (raw.githubusercontent.com)|185.199.110.133|:443... connected.\n",
      "HTTP request sent, awaiting response... 200 OK\n",
      "Length: 3000128 (2.9M) [application/octet-stream]\n",
      "Saving to: ‘fruits_300.npy’\n",
      "\n",
      "fruits_300.npy      100%[===================>]   2.86M  4.88MB/s    in 0.6s    \n",
      "\n",
      "2021-05-05 18:14:42 (4.88 MB/s) - ‘fruits_300.npy’ saved [3000128/3000128]\n",
      "\n"
     ]
    }
   ],
   "source": [
    "!wget https://bit.ly/fruits_300_data -O fruits_300.npy"
   ]
  },
  {
   "cell_type": "markdown",
   "id": "early-packet",
   "metadata": {},
   "source": [
    "k-평균 모델을 훈련하기 위해 3차원 배열을 2차원 배열로 변경한다."
   ]
  },
  {
   "cell_type": "code",
   "execution_count": 2,
   "id": "latin-ethnic",
   "metadata": {},
   "outputs": [],
   "source": [
    "import numpy as np\n",
    "fruits = np.load('fruits_300.npy')\n",
    "fruits_2d = fruits.reshape(-1, 100*100)"
   ]
  },
  {
   "cell_type": "code",
   "execution_count": null,
   "id": "choice-automation",
   "metadata": {},
   "outputs": [],
   "source": []
  }
 ],
 "metadata": {
  "kernelspec": {
   "display_name": "Python 3",
   "language": "python",
   "name": "python3"
  },
  "language_info": {
   "codemirror_mode": {
    "name": "ipython",
    "version": 3
   },
   "file_extension": ".py",
   "mimetype": "text/x-python",
   "name": "python",
   "nbconvert_exporter": "python",
   "pygments_lexer": "ipython3",
   "version": "3.6.9"
  }
 },
 "nbformat": 4,
 "nbformat_minor": 5
}
