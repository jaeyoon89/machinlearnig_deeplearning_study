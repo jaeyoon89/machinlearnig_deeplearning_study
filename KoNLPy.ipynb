{
 "cells": [
  {
   "cell_type": "markdown",
   "id": "af939d9e",
   "metadata": {},
   "source": [
    "# KoNLPy란?"
   ]
  },
  {
   "cell_type": "markdown",
   "id": "3f6b4b53",
   "metadata": {},
   "source": [
    "## 1. KoNLPy 개념"
   ]
  },
  {
   "cell_type": "markdown",
   "id": "f54c1754",
   "metadata": {},
   "source": [
    "KoNLPy를 알아 보기에 앞서 NLP라는 개념에 대해 먼저 알아보자.\n",
    "\n",
    "\n",
    "\n",
    "NLP (Natural Language Processing : 자연어처리)는 텍스트에서 의미있는 정보를 분석, 추출하고 이해하는 일련의 기술집합이다.NLP는 컴퓨터와 인간 언어 사이의 상호 작용하는 기술로 인공지능의 핵심 기능 중 하나이다.\n",
    "자연어처리가 되면, 컴퓨터는 이 처리된 정보를 바탕으로 음성 인식, 내용 요약, 번역, 감성 분석, 텍스트 분류 작업을 할 수 있다. \n",
    "\n",
    "우리 일상에서 자주 쓰이는 애플의 Siri 나 구글 번역기가 NLP의 대표적인 응용 사례이다.\n",
    "\n"
   ]
  },
  {
   "cell_type": "markdown",
   "id": "85c70fe6",
   "metadata": {},
   "source": [
    "아름답지만 다소 복잡하기도한 한국어는 전세계에서 13번째로 많이 사용되는 언어이다. 복잡미묘한 한국어 텍스트에서 유용한 특성을 추출하기 위해 그 동안 수많은 한국어 정보처리 도구가 개발되었다."
   ]
  },
  {
   "cell_type": "markdown",
   "id": "93b2d27d",
   "metadata": {},
   "source": [
    "KoNLPy(코엔엘파이)는 한국어 정보처리를 위한 파이썬 패키지이다. 즉 KoNLPy는 파이썬 프로그래밍 언어로 사용할 수 있도록 만들어졌다. 파이썬이 간결하고 우아한 문법구조, 강력한 스트링 연산 기능을 가지고 있을 뿐 아니라 크롤링, 웹프로그래밍, 그리고 데이터 분석을 수행할 수 있는 다양한 패키지를 사용할 수 있는 언어이기 때문이다."
   ]
  },
  {
   "cell_type": "markdown",
   "id": "69994a51",
   "metadata": {},
   "source": [
    "## 2. KoNLPy 설치하기 (우분투에서 설치하는 방법)"
   ]
  },
  {
   "cell_type": "code",
   "execution_count": 8,
   "id": "f33ee7c2",
   "metadata": {},
   "outputs": [],
   "source": [
    "#$ sudo apt-get install g++ openjdk-7-jdk    # Install Java 1.7+ 설치\n",
    "#$ sudo apt-get install python-dev; pip install konlpy       # Python 2.x\n",
    "#$ sudo apt-get install python3-dev; pip3 install konlpy     # Python 3.x\n",
    "\n",
    "# No JVM shared library file (libjvm.so) found. Try setting up the JAVA_HOME environment variable properly.\n",
    "# -> 오류 발생 시\n",
    "# sudo apt install default-jdk 입력하면 된다."
   ]
  },
  {
   "cell_type": "markdown",
   "id": "4c1c3d8e",
   "metadata": {},
   "source": [
    "## 3. KoNLPy 예제"
   ]
  },
  {
   "cell_type": "markdown",
   "id": "f9600ed9",
   "metadata": {},
   "source": [
    "이번 블로그에선 Kkma: 꼬꼬마(서울대학교 IDS(Intelligent Data Systems) 연구실 개발)를 이용해 간단한 예제를 실행해 보자."
   ]
  },
  {
   "cell_type": "code",
   "execution_count": 4,
   "id": "b82bf868",
   "metadata": {},
   "outputs": [],
   "source": [
    "from konlpy.tag import Kkma\n",
    "from konlpy.utils import pprint"
   ]
  },
  {
   "cell_type": "code",
   "execution_count": 5,
   "id": "85a5d017",
   "metadata": {},
   "outputs": [
    {
     "name": "stdout",
     "output_type": "stream",
     "text": [
      "['네, 안녕하세요.', '반갑습니다.']\n"
     ]
    }
   ],
   "source": [
    "kkma = Kkma()\n",
    "pprint(kkma.sentences(u'네, 안녕하세요. 반갑습니다.'))"
   ]
  },
  {
   "cell_type": "code",
   "execution_count": 9,
   "id": "5a2bac5e",
   "metadata": {},
   "outputs": [
    {
     "name": "stdout",
     "output_type": "stream",
     "text": [
      "['질문', '건의', '건의사항', '사항', '깃헙', '이슈', '트래커']\n"
     ]
    }
   ],
   "source": [
    "pprint(kkma.nouns(u'질문이나 건의사항은 깃헙 이슈 트래커에 남겨주세요.'))"
   ]
  },
  {
   "cell_type": "code",
   "execution_count": null,
   "id": "e14a19f4",
   "metadata": {},
   "outputs": [],
   "source": []
  }
 ],
 "metadata": {
  "kernelspec": {
   "display_name": "Python 3",
   "language": "python",
   "name": "python3"
  },
  "language_info": {
   "codemirror_mode": {
    "name": "ipython",
    "version": 3
   },
   "file_extension": ".py",
   "mimetype": "text/x-python",
   "name": "python",
   "nbconvert_exporter": "python",
   "pygments_lexer": "ipython3",
   "version": "3.6.9"
  }
 },
 "nbformat": 4,
 "nbformat_minor": 5
}
