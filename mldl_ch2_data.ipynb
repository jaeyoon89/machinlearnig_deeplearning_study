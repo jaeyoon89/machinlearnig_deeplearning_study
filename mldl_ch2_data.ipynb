{
 "cells": [
  {
   "cell_type": "markdown",
   "id": "continued-paradise",
   "metadata": {},
   "source": [
    "<center>\n",
    "<img src=\"https://tensorflowkorea.files.wordpress.com/2020/12/4.-e18492e185a9e186abe1848ce185a1-e18480e185a9e186bce18487e185aee18492e185a1e18482e185b3e186ab-e18486e185a5e18489e185b5e186abe18485e185a5e18482e185b5e186bce18483e185b5e186b8e18485e185a5e.png?w=972\" width=\"200\" height=\"200\"><br>\n",
    "</center>"
   ]
  },
  {
   "cell_type": "markdown",
   "id": "touched-filter",
   "metadata": {},
   "source": [
    "# chapte.2 데이터 다루기"
   ]
  },
  {
   "cell_type": "markdown",
   "id": "opposite-start",
   "metadata": {},
   "source": [
    "## 02-1 훈련 세트와 테스트 세트"
   ]
  },
  {
   "cell_type": "markdown",
   "id": "paperback-fashion",
   "metadata": {},
   "source": [
    "### - 지도 학습과 비지도 학습"
   ]
  },
  {
   "cell_type": "markdown",
   "id": "illegal-ocean",
   "metadata": {},
   "source": [
    "머신러닝 알고리즘은 크게 지도학습과 비지도학습으로 나눌 수 있다. 지도 학습 알고리즘은 훈련하기 위한 데이터와 정답이 필요하다.\n",
    "지도 학습에서는 데이터와 정답을 입력과 타깃이라고 하고, 이 둘을 합쳐 훈련 데이터라고 부른다.\n",
    "지도 학습은 정답이 있어 알고리즘이 정답을 맞히는 것을 학습한다. 반면 비지도 학습 알고리즘은 타깃 없이 입력 데이터만 사용한다.\n",
    "이런 종류의 알고리즘은 정답을 사용하지 않으므로 무언가를 맞힐 수가 없다. 대신 데이터를 잘 파악하거나 변형하는 데 도움을 준다."
   ]
  },
  {
   "cell_type": "markdown",
   "id": "surprised-sight",
   "metadata": {},
   "source": [
    "### - 훈련 세트와 테스트 세트"
   ]
  },
  {
   "cell_type": "markdown",
   "id": "short-clarity",
   "metadata": {},
   "source": [
    "연습문제와 시험문제가 달라야 올바르게 학생의 능력을 평가할 수 있듯 머신러닝 알고리즘의 성능을 제대로 파악하기 위해선 훈련 데이터와 평가에 사용할 데이터가 각각 달라야 한다. 이렇게 하는 가장 간단한 방법은 평가를 위해 또 다른 데이터를 준비하거나 이미 준비된 데이터 중에 일부를 떼어 내어 활용하는 것이다. 일반적으론 후자의 경우가 많다. 평가에 사용하는 데이터를 테스트 세트, 훈련에 사용되는 데이터를 훈련 세트라고 한다."
   ]
  },
  {
   "cell_type": "markdown",
   "id": "fatty-triumph",
   "metadata": {},
   "source": [
    "앞장의 도미와 빙어의 데이터를 합쳐 하나의 파이썬 리스트로 준비하자."
   ]
  },
  {
   "cell_type": "code",
   "execution_count": 113,
   "id": "common-contamination",
   "metadata": {},
   "outputs": [],
   "source": [
    "fish_length = [25.4, 26.3, 26.5, 29.0, 29.0, 29.7, 29.7, 30.0, 30.0, 30.7, 31.0, 31.0, \n",
    "                31.5, 32.0, 32.0, 32.0, 33.0, 33.0, 33.5, 33.5, 34.0, 34.0, 34.5, 35.0, \n",
    "                35.0, 35.0, 35.0, 36.0, 36.0, 37.0, 38.5, 38.5, 39.5, 41.0, 41.0, 9.8, \n",
    "                10.5, 10.6, 11.0, 11.2, 11.3, 11.8, 11.8, 12.0, 12.2, 12.4, 13.0, 14.3, 15.0]\n",
    "fish_weight = [242.0, 290.0, 340.0, 363.0, 430.0, 450.0, 500.0, 390.0, 450.0, 500.0, 475.0, 500.0, \n",
    "                500.0, 340.0, 600.0, 600.0, 700.0, 700.0, 610.0, 650.0, 575.0, 685.0, 620.0, 680.0, \n",
    "                700.0, 725.0, 720.0, 714.0, 850.0, 1000.0, 920.0, 955.0, 925.0, 975.0, 950.0, 6.7, \n",
    "                7.5, 7.0, 9.7, 9.8, 8.7, 10.0, 9.9, 9.8, 12.2, 13.4, 12.2, 19.7, 19.9]"
   ]
  },
  {
   "cell_type": "code",
   "execution_count": 114,
   "id": "distinct-encounter",
   "metadata": {},
   "outputs": [],
   "source": [
    "fish_data = [[l, w] for l, w in zip(fish_length, fish_weight)]\n",
    "fish_target = [1]*35 + [0]*14"
   ]
  },
  {
   "cell_type": "markdown",
   "id": "naughty-johnson",
   "metadata": {},
   "source": [
    "이때 하나의 생선 데이터를 샘플이라고 부른다. 전체 데이터는 총 49개의 샘플이 있다. 사용하는 특성은 길이와 무게 2개이다. 이 데이터의 처음 35개를 훈련 세트로, 나머지 14개를 테스트 세트로 사용해보자."
   ]
  },
  {
   "cell_type": "code",
   "execution_count": 115,
   "id": "smaller-armstrong",
   "metadata": {},
   "outputs": [],
   "source": [
    "from sklearn.neighbors import KNeighborsClassifier\n",
    "\n",
    "kn = KNeighborsClassifier()"
   ]
  },
  {
   "cell_type": "markdown",
   "id": "fabulous-intent",
   "metadata": {},
   "source": [
    "이제 전체 데이터에서 처음 35개를 선택해야 한다. 일반적으로 리스트처럼 배열의 요소를 선택할 때는 배열의 위치, 즉 인덱스를 지정한다.\n",
    "예를 들어 fish_data의 다섯 번째 샘플을 출력하기 위해선 다음과 같이 하면 된다."
   ]
  },
  {
   "cell_type": "code",
   "execution_count": 116,
   "id": "sapphire-microwave",
   "metadata": {},
   "outputs": [
    {
     "name": "stdout",
     "output_type": "stream",
     "text": [
      "[29.0, 430.0]\n"
     ]
    }
   ],
   "source": [
    "print(fish_data[4])"
   ]
  },
  {
   "cell_type": "markdown",
   "id": "matched-equivalent",
   "metadata": {},
   "source": [
    "파이썬 리스트는 인덱스 외에도 슬라이싱이라는 특별한 연산자를 제공한다. 슬라이싱은 콜론(:)을 가운데 두고 인덱스의 범위를 지정하여 여러 개의 원소를 선택할 수 있다. 예를 들어 첫 번째부터 다섯 번째까지의 샘플을 선택해 보자."
   ]
  },
  {
   "cell_type": "code",
   "execution_count": 117,
   "id": "right-clock",
   "metadata": {},
   "outputs": [
    {
     "name": "stdout",
     "output_type": "stream",
     "text": [
      "[[25.4, 242.0], [26.3, 290.0], [26.5, 340.0], [29.0, 363.0], [29.0, 430.0]]\n"
     ]
    }
   ],
   "source": [
    "print(fish_data[0:5])"
   ]
  },
  {
   "cell_type": "markdown",
   "id": "closing-marina",
   "metadata": {},
   "source": [
    "슬라이싱을 사용할 때는 마지막 인덱스의 원소는 포함하지 않는다는 점을 주의해야한다."
   ]
  },
  {
   "cell_type": "markdown",
   "id": "loving-council",
   "metadata": {},
   "source": [
    "위처럼 0:5 와 같이 처음부터 시작되는 슬라이싱의 경우 0을 생략하고 쓸 수 있다."
   ]
  },
  {
   "cell_type": "code",
   "execution_count": 118,
   "id": "driven-directory",
   "metadata": {},
   "outputs": [
    {
     "name": "stdout",
     "output_type": "stream",
     "text": [
      "[[25.4, 242.0], [26.3, 290.0], [26.5, 340.0], [29.0, 363.0], [29.0, 430.0]]\n"
     ]
    }
   ],
   "source": [
    "print(fish_data[:5])"
   ]
  },
  {
   "cell_type": "markdown",
   "id": "swedish-soccer",
   "metadata": {},
   "source": [
    "이와 비슷하게 마지막 원소까지 포함할 경우 두 번째 인덱스를 생략할 수 있다. "
   ]
  },
  {
   "cell_type": "code",
   "execution_count": 119,
   "id": "educational-oxford",
   "metadata": {},
   "outputs": [
    {
     "name": "stdout",
     "output_type": "stream",
     "text": [
      "[[12.2, 12.2], [12.4, 13.4], [13.0, 12.2], [14.3, 19.7], [15.0, 19.9]]\n"
     ]
    }
   ],
   "source": [
    "print(fish_data[44:])"
   ]
  },
  {
   "cell_type": "code",
   "execution_count": 120,
   "id": "greater-attitude",
   "metadata": {},
   "outputs": [],
   "source": [
    "train_input = fish_data[:35]\n",
    "train_target = fish_target[:35]\n",
    "\n",
    "test_input = fish_data[35:]\n",
    "test_target = fish_target[35:]"
   ]
  },
  {
   "cell_type": "markdown",
   "id": "bearing-cameroon",
   "metadata": {},
   "source": [
    "슬라이싱 연산으로 인덱스 0 ~ 34 까지 처음 35개 샘플을 훈련 세트로 선택했고, 인덱스 35 ~ 48까지 나머지 14개 샘플을 테스트 세트로 선택했다. 데이터를 준비했으니 훈련 세트로 fit() 메서드를 호출해 모델을 훈련하고, 테스트 세트로 score() 메서드를 호출해 평가해보자."
   ]
  },
  {
   "cell_type": "code",
   "execution_count": 121,
   "id": "shaped-redhead",
   "metadata": {},
   "outputs": [
    {
     "data": {
      "text/plain": [
       "0.0"
      ]
     },
     "execution_count": 121,
     "metadata": {},
     "output_type": "execute_result"
    }
   ],
   "source": [
    "kn = kn.fit(train_input, train_target)\n",
    "kn.score(test_input, test_target)"
   ]
  },
  {
   "cell_type": "markdown",
   "id": "hungry-playback",
   "metadata": {},
   "source": [
    "값이 0이 나왔다. 왜 이런 최악의 성능을 내는 걸까? 다음장에서 배워보자."
   ]
  },
  {
   "cell_type": "markdown",
   "id": "laden-channel",
   "metadata": {},
   "source": [
    "## - 샘플링 편향"
   ]
  },
  {
   "cell_type": "markdown",
   "id": "higher-southwest",
   "metadata": {},
   "source": [
    "앞서 테스트 데이터를 만들 때 테스트 세트에 빙어만 들어가 있었다. fish_data에는 35개의 도미와 14개의 빙어 샘플이 들어가 있는데 마지막 테스트 세트에는 14개의 빙어 데이터만 들어가있다."
   ]
  },
  {
   "cell_type": "markdown",
   "id": "worst-services",
   "metadata": {},
   "source": [
    "상식적으로 훈련하는 데이터와 테스트하는 데이터에는 도미와 빙어가 골고루 섞여 있어야 한다. 일반적으로 훈련 세트와 테스트 세트에 샘플이 골고루 섞여 있지 않으면 샘플링이 한쪽으로 치우쳤다는 의미로 샘플링 편향 이라고 부른다.\n",
    "이 예제에서 훈련 세트에는 도미만 있기 때문에 테스트 세트가 무엇이든 무조건 도미라고 분류한다. 그런데 테스트 세트에는 빙어만 있기 때문에 정답을 하나도 맞히지 못한 것이다."
   ]
  },
  {
   "cell_type": "markdown",
   "id": "acquired-supervision",
   "metadata": {},
   "source": [
    "데이터를 골고루 섞기 위해 파이썬 라이브러리인 넘파이에 대해 알아보자."
   ]
  },
  {
   "cell_type": "markdown",
   "id": "timely-harrison",
   "metadata": {},
   "source": [
    "## - 넘파이"
   ]
  },
  {
   "cell_type": "markdown",
   "id": "peaceful-cholesterol",
   "metadata": {},
   "source": [
    "넘파이는 파이썬의 대표적인 배열 라이브러리이다. 넘파이는 고차원 배열을 손쉽게 만들고 조작할 수 있는 간편한 도구를 많이 제공한다."
   ]
  },
  {
   "cell_type": "markdown",
   "id": "threaded-member",
   "metadata": {},
   "source": [
    "앞의 생선 데이터를 2차원 넘파이 배열로 변환해보자. 먼저 넘파이를 임포트한다."
   ]
  },
  {
   "cell_type": "code",
   "execution_count": 122,
   "id": "limiting-bedroom",
   "metadata": {},
   "outputs": [],
   "source": [
    "import numpy as np"
   ]
  },
  {
   "cell_type": "markdown",
   "id": "crazy-scratch",
   "metadata": {},
   "source": [
    "넘파이 array() 함수에 파이썬 리스트를 전달하자."
   ]
  },
  {
   "cell_type": "code",
   "execution_count": 123,
   "id": "inclusive-canal",
   "metadata": {},
   "outputs": [],
   "source": [
    "input_arr = np.array(fish_data)\n",
    "target_arr = np.array(fish_target)"
   ]
  },
  {
   "cell_type": "code",
   "execution_count": 124,
   "id": "celtic-living",
   "metadata": {},
   "outputs": [
    {
     "name": "stdout",
     "output_type": "stream",
     "text": [
      "[[  25.4  242. ]\n",
      " [  26.3  290. ]\n",
      " [  26.5  340. ]\n",
      " [  29.   363. ]\n",
      " [  29.   430. ]\n",
      " [  29.7  450. ]\n",
      " [  29.7  500. ]\n",
      " [  30.   390. ]\n",
      " [  30.   450. ]\n",
      " [  30.7  500. ]\n",
      " [  31.   475. ]\n",
      " [  31.   500. ]\n",
      " [  31.5  500. ]\n",
      " [  32.   340. ]\n",
      " [  32.   600. ]\n",
      " [  32.   600. ]\n",
      " [  33.   700. ]\n",
      " [  33.   700. ]\n",
      " [  33.5  610. ]\n",
      " [  33.5  650. ]\n",
      " [  34.   575. ]\n",
      " [  34.   685. ]\n",
      " [  34.5  620. ]\n",
      " [  35.   680. ]\n",
      " [  35.   700. ]\n",
      " [  35.   725. ]\n",
      " [  35.   720. ]\n",
      " [  36.   714. ]\n",
      " [  36.   850. ]\n",
      " [  37.  1000. ]\n",
      " [  38.5  920. ]\n",
      " [  38.5  955. ]\n",
      " [  39.5  925. ]\n",
      " [  41.   975. ]\n",
      " [  41.   950. ]\n",
      " [   9.8    6.7]\n",
      " [  10.5    7.5]\n",
      " [  10.6    7. ]\n",
      " [  11.     9.7]\n",
      " [  11.2    9.8]\n",
      " [  11.3    8.7]\n",
      " [  11.8   10. ]\n",
      " [  11.8    9.9]\n",
      " [  12.     9.8]\n",
      " [  12.2   12.2]\n",
      " [  12.4   13.4]\n",
      " [  13.    12.2]\n",
      " [  14.3   19.7]\n",
      " [  15.    19.9]]\n"
     ]
    }
   ],
   "source": [
    "print(input_arr)"
   ]
  },
  {
   "cell_type": "markdown",
   "id": "front-wheel",
   "metadata": {},
   "source": [
    "동일한 출력 결과를 보인다. 넘파이 배열 객체는 배열의 크기를 알려주는 shape() 속성을 제공한다. 위의 결과처럼 49개의 행과 2개의 열이 확인되는지 알아보자."
   ]
  },
  {
   "cell_type": "code",
   "execution_count": 125,
   "id": "spoken-childhood",
   "metadata": {},
   "outputs": [
    {
     "name": "stdout",
     "output_type": "stream",
     "text": [
      "(49, 2)\n"
     ]
    }
   ],
   "source": [
    "print(input_arr.shape)"
   ]
  },
  {
   "cell_type": "markdown",
   "id": "changed-validation",
   "metadata": {},
   "source": [
    "이제 생선 데이터를 넘파이 배열로 준비했으므로 이 배열에서 랜덤하게 샘플을 선택해 훈련 세트와 테스트 세트로 만들 차례이다.\n",
    "배열을 섞은 후에 나누는 방식 대신에 무작위로 샘플을 고르는 방법을 사용하자.\n",
    "여기서 주의할 점은 input_arr와 target_arr에서 같은 위치는 함께 선택되어야 한다는 것이다.\n",
    "이렇게 하려면 훈련 세트와 테스트 세트로 나눌 인덱스값을 잘 기억해야한다. 하지만 항상 기억할 수는 없으니 아예 인덱스를 섞은 다음에 input_arr와 target_arr에서 샘플을 선택하면 무작위로 훈련 세트를 나누는 셈이 된다."
   ]
  },
  {
   "cell_type": "markdown",
   "id": "following-awareness",
   "metadata": {},
   "source": [
    "넘파이 arange() 함수를 사용하면 0부터 48까지 1씩 증가하는 인덱스를 간단히 만들 수 있다."
   ]
  },
  {
   "cell_type": "code",
   "execution_count": 126,
   "id": "reasonable-lambda",
   "metadata": {},
   "outputs": [],
   "source": [
    "np.random.seed(42)\n",
    "index = np.arange(49)\n",
    "np.random.shuffle(index)"
   ]
  },
  {
   "cell_type": "markdown",
   "id": "compliant-citizen",
   "metadata": {},
   "source": [
    "넘파이 arange() 함수에 정수 N을 전달하면 0부터 N-1 까지 1씩 증가하는 배열을 만든다. 넘파이 random 패키지 아래에 있는 shuffle() 함수는 주어진 배열을 무작위로 섞는다."
   ]
  },
  {
   "cell_type": "code",
   "execution_count": 127,
   "id": "dressed-vacuum",
   "metadata": {},
   "outputs": [
    {
     "name": "stdout",
     "output_type": "stream",
     "text": [
      "[13 45 47 44 17 27 26 25 31 19 12  4 34  8  3  6 40 41 46 15  9 16 24 33\n",
      " 30  0 43 32  5 29 11 36  1 21  2 37 35 23 39 10 22 18 48 20  7 42 14 28\n",
      " 38]\n"
     ]
    }
   ],
   "source": [
    "print(index)"
   ]
  },
  {
   "cell_type": "markdown",
   "id": "swedish-large",
   "metadata": {},
   "source": [
    "이제 랜덤하게 섞인 인덱스를 사용해 전체 데이터를 훈련 세트와 테스트 세트로 나누어 보자."
   ]
  },
  {
   "cell_type": "markdown",
   "id": "musical-somalia",
   "metadata": {},
   "source": [
    "넘파이는 슬라이싱 외에 배열 인덱싱이라는 기능을 제공한다. 배열 인덱싱은 1개의 인덱스가 아닌 여러개의 인덱스로 한 번에 여러 개의 원소를 선택할 수 있다."
   ]
  },
  {
   "cell_type": "code",
   "execution_count": 128,
   "id": "conscious-habitat",
   "metadata": {},
   "outputs": [
    {
     "name": "stdout",
     "output_type": "stream",
     "text": [
      "[[ 26.3 290. ]\n",
      " [ 29.  363. ]]\n"
     ]
    }
   ],
   "source": [
    "print(input_arr[[1,3]])"
   ]
  },
  {
   "cell_type": "markdown",
   "id": "latest-english",
   "metadata": {},
   "source": [
    "새로 만든 index 배열로 랜덤하게 35개의 샘플을 훈련 세트로 만들어보자."
   ]
  },
  {
   "cell_type": "code",
   "execution_count": 129,
   "id": "scientific-standard",
   "metadata": {},
   "outputs": [],
   "source": [
    "train_input = input_arr[index[:35]]\n",
    "train_target = target_arr[index[:35]]"
   ]
  },
  {
   "cell_type": "markdown",
   "id": "forbidden-chain",
   "metadata": {},
   "source": [
    "만들어진 index의 첫 번째 값은 13이다. 따라서 train_input의 첫 번째 원소는 input_arr의 열네 번째 원소가 들어가 있을 것이다."
   ]
  },
  {
   "cell_type": "code",
   "execution_count": 130,
   "id": "tracked-strain",
   "metadata": {},
   "outputs": [
    {
     "name": "stdout",
     "output_type": "stream",
     "text": [
      "[ 32. 340.] [ 32. 340.]\n"
     ]
    }
   ],
   "source": [
    "print(input_arr[13], train_input[0])"
   ]
  },
  {
   "cell_type": "markdown",
   "id": "demanding-atlanta",
   "metadata": {},
   "source": [
    "이번엔 나머지 14개를 테스트 세트로 만들어 보자."
   ]
  },
  {
   "cell_type": "code",
   "execution_count": 131,
   "id": "alone-diabetes",
   "metadata": {},
   "outputs": [],
   "source": [
    "test_input = input_arr[index[35:]]\n",
    "test_target = target_arr[index[35:]]"
   ]
  },
  {
   "cell_type": "markdown",
   "id": "retained-analyst",
   "metadata": {},
   "source": [
    "훈련 세트와 테스트 세트에 도미와 빙어가 잘 섞여 있는지 산점도로 그려보자."
   ]
  },
  {
   "cell_type": "code",
   "execution_count": 132,
   "id": "armed-tractor",
   "metadata": {},
   "outputs": [
    {
     "data": {
      "image/png": "[encoded data removed]",
      "text/plain": [
       "<Figure size 432x288 with 1 Axes>"
      ]
     },
     "metadata": {
      "needs_background": "light"
     },
     "output_type": "display_data"
    }
   ],
   "source": [
    "import matplotlib.pyplot as plt\n",
    "\n",
    "plt.scatter(train_input[:, 0], train_input[:, 1])\n",
    "plt.scatter(test_input[:, 0], test_input[:, 1])\n",
    "plt.xlabel('length')\n",
    "plt.ylabel('weight')\n",
    "plt.show()"
   ]
  },
  {
   "cell_type": "markdown",
   "id": "colored-package",
   "metadata": {},
   "source": [
    "파란색이 훈련세트이고 주황색이 테스트 세트이다. 양쪽에 도미와 빙어가 잘 섞여있다. 이제 모델을 다시 훈련시켜 보자."
   ]
  },
  {
   "cell_type": "markdown",
   "id": "buried-freight",
   "metadata": {},
   "source": [
    "## - 두 번째 머신러닝 프로그램"
   ]
  },
  {
   "cell_type": "markdown",
   "id": "compatible-reception",
   "metadata": {},
   "source": [
    "앞서 만든 훈련 세트와 테스트 세트로 k-최근접 이웃 모델을 훈련시켜 보자. fit() 메서드를 할 때마다 KNeighborsClassifier 클래스의 객체는 이전에 학습한 모든 것을 잃어버린다. 이전 모델을 그대로 두고 싶다면 KNeighborsClassifier 클래스 객체를 새로 만들어야 한다. 여기에서는 단순하게 이전에 만든 kn 객체를 그대로 사용하자."
   ]
  },
  {
   "cell_type": "code",
   "execution_count": 133,
   "id": "dangerous-victim",
   "metadata": {},
   "outputs": [],
   "source": [
    "kn = kn.fit(train_input, train_target)"
   ]
  },
  {
   "cell_type": "markdown",
   "id": "labeled-climb",
   "metadata": {},
   "source": [
    "인덱스를 섞어 만든 train_input과 train_target으로 모델을 훈련시켰다. 다음은 test_input과 test_target으로 이 모델을 테스트할 차례이다."
   ]
  },
  {
   "cell_type": "code",
   "execution_count": 134,
   "id": "negative-agreement",
   "metadata": {},
   "outputs": [
    {
     "data": {
      "text/plain": [
       "1.0"
      ]
     },
     "execution_count": 134,
     "metadata": {},
     "output_type": "execute_result"
    }
   ],
   "source": [
    "kn.score(test_input, test_target)"
   ]
  },
  {
   "cell_type": "markdown",
   "id": "sought-maria",
   "metadata": {},
   "source": [
    "이제 100% 정확도로 테스트 세트에 있는 모든 생선을 맞혔다. predict() 메서드로 테스트 세트의 예측 결과와 실제 타깃을 확인해 보자."
   ]
  },
  {
   "cell_type": "code",
   "execution_count": 135,
   "id": "three-prison",
   "metadata": {},
   "outputs": [
    {
     "data": {
      "text/plain": [
       "array([0, 0, 1, 0, 1, 1, 1, 0, 1, 1, 0, 1, 1, 0])"
      ]
     },
     "execution_count": 135,
     "metadata": {},
     "output_type": "execute_result"
    }
   ],
   "source": [
    "kn.predict(test_input)"
   ]
  },
  {
   "cell_type": "code",
   "execution_count": 136,
   "id": "certified-organ",
   "metadata": {},
   "outputs": [
    {
     "data": {
      "text/plain": [
       "array([0, 0, 1, 0, 1, 1, 1, 0, 1, 1, 0, 1, 1, 0])"
      ]
     },
     "execution_count": 136,
     "metadata": {},
     "output_type": "execute_result"
    }
   ],
   "source": [
    "test_target"
   ]
  },
  {
   "cell_type": "markdown",
   "id": "driven-tissue",
   "metadata": {},
   "source": [
    "테스트 세트에 대한 예측 결과가 정답과 일치한다. 두 결과 모두 동일하게 array()로 감싸져 있다. 이 값은 넘파이 배열을 의미한다. 즉 predict() 메서드가 반환하는 값은 단순한 파이썬 리스트가 아닌 넘파이 배열이다. 사실 사이킷런 모델의 입력과 출력은 모두 넘파이 배열이다."
   ]
  },
  {
   "cell_type": "markdown",
   "id": "passive-suggestion",
   "metadata": {},
   "source": [
    "## 02-2 데이터 전처리\n"
   ]
  },
  {
   "cell_type": "markdown",
   "id": "present-atlas",
   "metadata": {},
   "source": [
    "### - 넘파이로 데이터 준비하기"
   ]
  },
  {
   "cell_type": "code",
   "execution_count": 1,
   "id": "imported-apple",
   "metadata": {},
   "outputs": [],
   "source": [
    "fish_length = [25.4, 26.3, 26.5, 29.0, 29.0, 29.7, 29.7, 30.0, 30.0, 30.7, 31.0, 31.0, \n",
    "                31.5, 32.0, 32.0, 32.0, 33.0, 33.0, 33.5, 33.5, 34.0, 34.0, 34.5, 35.0, \n",
    "                35.0, 35.0, 35.0, 36.0, 36.0, 37.0, 38.5, 38.5, 39.5, 41.0, 41.0, 9.8, \n",
    "                10.5, 10.6, 11.0, 11.2, 11.3, 11.8, 11.8, 12.0, 12.2, 12.4, 13.0, 14.3, 15.0]\n",
    "fish_weight = [242.0, 290.0, 340.0, 363.0, 430.0, 450.0, 500.0, 390.0, 450.0, 500.0, 475.0, 500.0, \n",
    "                500.0, 340.0, 600.0, 600.0, 700.0, 700.0, 610.0, 650.0, 575.0, 685.0, 620.0, 680.0, \n",
    "                700.0, 725.0, 720.0, 714.0, 850.0, 1000.0, 920.0, 955.0, 925.0, 975.0, 950.0, 6.7, \n",
    "                7.5, 7.0, 9.7, 9.8, 8.7, 10.0, 9.9, 9.8, 12.2, 13.4, 12.2, 19.7, 19.9]"
   ]
  },
  {
   "cell_type": "code",
   "execution_count": 2,
   "id": "contrary-component",
   "metadata": {},
   "outputs": [],
   "source": [
    "import numpy as np"
   ]
  },
  {
   "cell_type": "markdown",
   "id": "herbal-cleaning",
   "metadata": {},
   "source": [
    "넘파이의 column_stack() 함수는 전달받은 리스트를 일렬로 세운 다음 차례대로 나란히 연결한다. 다음과 같이 2개의 리스트를 붙여보자. 연결한 리스트는 파이썬 튜플로 전달한다."
   ]
  },
  {
   "cell_type": "code",
   "execution_count": 3,
   "id": "alpha-sunrise",
   "metadata": {},
   "outputs": [
    {
     "data": {
      "text/plain": [
       "array([[1, 4],\n",
       "       [2, 5],\n",
       "       [3, 6]])"
      ]
     },
     "execution_count": 3,
     "metadata": {},
     "output_type": "execute_result"
    }
   ],
   "source": [
    "np.column_stack(([1,2,3], [4,5,6]))"
   ]
  },
  {
   "cell_type": "markdown",
   "id": "effective-playlist",
   "metadata": {},
   "source": [
    "이제 fish_length와 fish_weight를 합치자.\n"
   ]
  },
  {
   "cell_type": "code",
   "execution_count": 4,
   "id": "flying-closure",
   "metadata": {},
   "outputs": [],
   "source": [
    "fish_data = np.column_stack((fish_length, fish_weight))"
   ]
  },
  {
   "cell_type": "code",
   "execution_count": 6,
   "id": "aquatic-enterprise",
   "metadata": {},
   "outputs": [
    {
     "name": "stdout",
     "output_type": "stream",
     "text": [
      "[[ 25.4 242. ]\n",
      " [ 26.3 290. ]\n",
      " [ 26.5 340. ]\n",
      " [ 29.  363. ]\n",
      " [ 29.  430. ]]\n"
     ]
    }
   ],
   "source": [
    "print(fish_data[:5])"
   ]
  },
  {
   "cell_type": "markdown",
   "id": "heated-bouquet",
   "metadata": {},
   "source": [
    "이제 타겟 데이터를 만들어 보자. 앞서 [1],[0]을 여러번 곱하여 타깃 데이터를 만들었다. 하지만 넘파이의 np.ones()와  np.zeros() 함수로 원하는 개수의 1과 0을 채운 배열을 만들어 준다."
   ]
  },
  {
   "cell_type": "code",
   "execution_count": 7,
   "id": "fifth-corps",
   "metadata": {},
   "outputs": [
    {
     "name": "stdout",
     "output_type": "stream",
     "text": [
      "[1. 1. 1. 1. 1.]\n"
     ]
    }
   ],
   "source": [
    "print(np.ones(5))"
   ]
  },
  {
   "cell_type": "markdown",
   "id": "organized-insertion",
   "metadata": {},
   "source": [
    "이 두함수를 이용해 1이 35개인 배열과 0시 14개인 배열을 간단히 만들 수 있다. 그다음  두 배열을 그대로 연결하자. 이번엔 np.column_stack() 함수 대신 첫 번째 차원을 따라 배열을 연결하는 np.concatenate() 함수를 사용한다. "
   ]
  },
  {
   "cell_type": "code",
   "execution_count": 8,
   "id": "infrared-artwork",
   "metadata": {},
   "outputs": [],
   "source": [
    "fish_target = np.concatenate((np.ones(35), np.zeros(14)))"
   ]
  },
  {
   "cell_type": "code",
   "execution_count": 9,
   "id": "mighty-bidder",
   "metadata": {},
   "outputs": [
    {
     "name": "stdout",
     "output_type": "stream",
     "text": [
      "[1. 1. 1. 1. 1. 1. 1. 1. 1. 1. 1. 1. 1. 1. 1. 1. 1. 1. 1. 1. 1. 1. 1. 1.\n",
      " 1. 1. 1. 1. 1. 1. 1. 1. 1. 1. 1. 0. 0. 0. 0. 0. 0. 0. 0. 0. 0. 0. 0. 0.\n",
      " 0.]\n"
     ]
    }
   ],
   "source": [
    "print(fish_target)"
   ]
  },
  {
   "cell_type": "markdown",
   "id": "organic-details",
   "metadata": {},
   "source": [
    "### - 사이킷런으로 훈련 세트와 테스트 세트 나누기"
   ]
  },
  {
   "cell_type": "markdown",
   "id": "isolated-wholesale",
   "metadata": {},
   "source": [
    "앞에서는 넘파이 배열의 인덱스를 직접 섞어서 훈련 세트와 테스트 세트로 나누었다. 이번엔 다른 방법을 이용해 보자."
   ]
  },
  {
   "cell_type": "markdown",
   "id": "egyptian-format",
   "metadata": {},
   "source": [
    "사이킷런은 머신러닝 모델을 위한 알고리즘뿐만 아니라 다양한 유틸리티 도구도 제공한다. 대표적인 도구가 바로 train_test_split() 함수이다.\n",
    "이 함수는 전달되는 리스트나 배열을 비율에 맞게 훈련 세트와 테스트 세트로 나누어 준다. 그리고 잘 섞어준다."
   ]
  },
  {
   "cell_type": "code",
   "execution_count": 11,
   "id": "attached-reliance",
   "metadata": {},
   "outputs": [],
   "source": [
    "from sklearn.model_selection import train_test_split"
   ]
  },
  {
   "cell_type": "code",
   "execution_count": null,
   "id": "elementary-absolute",
   "metadata": {},
   "outputs": [],
   "source": []
  }
 ],
 "metadata": {
  "kernelspec": {
   "display_name": "Python 3",
   "language": "python",
   "name": "python3"
  },
  "language_info": {
   "codemirror_mode": {
    "name": "ipython",
    "version": 3
   },
   "file_extension": ".py",
   "mimetype": "text/x-python",
   "name": "python",
   "nbconvert_exporter": "python",
   "pygments_lexer": "ipython3",
   "version": "3.6.9"
  }
 },
 "nbformat": 4,
 "nbformat_minor": 5
}
