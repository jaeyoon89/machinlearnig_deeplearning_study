{
 "cells": [
  {
   "cell_type": "markdown",
   "id": "8c88fa17",
   "metadata": {},
   "source": [
    "<center>\n",
    "<img src=\"https://tensorflowkorea.files.wordpress.com/2020/12/4.-e18492e185a9e186abe1848ce185a1-e18480e185a9e186bce18487e185aee18492e185a1e18482e185b3e186ab-e18486e185a5e18489e185b5e186abe18485e185a5e18482e185b5e186bce18483e185b5e186b8e18485e185a5e.png?w=972\" width=\"200\" height=\"200\"><br>\n",
    "</center>"
   ]
  },
  {
   "cell_type": "markdown",
   "id": "45b42e9e",
   "metadata": {},
   "source": [
    "## 07-2 심층 신경망"
   ]
  },
  {
   "cell_type": "markdown",
   "id": "b0fec34f",
   "metadata": {},
   "source": [
    "### - 2개의 층"
   ]
  },
  {
   "cell_type": "markdown",
   "id": "776fc141",
   "metadata": {},
   "source": [
    "다시 케라스 API를 사용해서 패션 MNIST 데이터셋을 불러오자."
   ]
  },
  {
   "cell_type": "code",
   "execution_count": null,
   "id": "86bcb396",
   "metadata": {},
   "outputs": [],
   "source": []
  }
 ],
 "metadata": {
  "kernelspec": {
   "display_name": "Python 3",
   "language": "python",
   "name": "python3"
  },
  "language_info": {
   "codemirror_mode": {
    "name": "ipython",
    "version": 3
   },
   "file_extension": ".py",
   "mimetype": "text/x-python",
   "name": "python",
   "nbconvert_exporter": "python",
   "pygments_lexer": "ipython3",
   "version": "3.6.9"
  }
 },
 "nbformat": 4,
 "nbformat_minor": 5
}
