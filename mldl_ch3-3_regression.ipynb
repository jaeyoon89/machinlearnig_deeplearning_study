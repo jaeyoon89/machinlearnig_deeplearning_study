{
 "cells": [
  {
   "cell_type": "markdown",
   "id": "drawn-battery",
   "metadata": {},
   "source": [
    "<center>\n",
    "<img src=\"https://tensorflowkorea.files.wordpress.com/2020/12/4.-e18492e185a9e186abe1848ce185a1-e18480e185a9e186bce18487e185aee18492e185a1e18482e185b3e186ab-e18486e185a5e18489e185b5e186abe18485e185a5e18482e185b5e186bce18483e185b5e186b8e18485e185a5e.png?w=972\" width=\"200\" height=\"200\"><br>\n",
    "</center>"
   ]
  },
  {
   "cell_type": "markdown",
   "id": "italian-cache",
   "metadata": {},
   "source": [
    "## 03-3 특성 공학과 규제"
   ]
  },
  {
   "cell_type": "markdown",
   "id": "robust-iceland",
   "metadata": {},
   "source": [
    "앞서 다항회귀로 농어의 무게를 어느 정도 예측할 수 있었지만 여전히 훈련 세트보다 테스트 세트의 점수가 높았다. 이를 해결하려면 제곱보다 더 고차항을 넣어야 할 것 같은데 어떻게 넣어야 하는지 이제부터 배워보자."
   ]
  },
  {
   "cell_type": "markdown",
   "id": "bound-warrior",
   "metadata": {},
   "source": [
    "### - 다중 회귀"
   ]
  },
  {
   "cell_type": "markdown",
   "id": "expanded-halloween",
   "metadata": {},
   "source": [
    "앞서 우리는 하나의 특성을 사용하여 선형 회귀 모델을 훈련시켰다. 여러 개의 특성을 사용한 선형 회귀를 다중 회귀라고 부른다.\n",
    "1개의 특성을 사용했을 때 선형 회귀 모델이 학습하는 것은 직선이고 2개의 특성이면 평면을 학습한다.\n",
    "하지만 3차원 공간 이상을 그리거나 상상할 수 없다. 하지만 분명한 것은 선형 회귀를 단순한 직선이나 평면으로 생각하여 성능이 무조건 낮다고 오해해서는 안된다."
   ]
  },
  {
   "cell_type": "markdown",
   "id": "annual-program",
   "metadata": {},
   "source": [
    "이번엔 농어의 길이 뿐만아니라 농어의 높이와 두께도 함께 사용해보자. 또한 앞에서 했던 것처럼 3개의 특성을 각각 제곱하여 추가한다. 거기에 각 특성을 곱해서 또 다른 특성을 만들자. 즉 '농어 길이 x 농어 높이'를 새로운 특성으로 만드는 것이다 이렇게 기존의 특성을 사용해 새로운 특성을 뽑아내는 작업을 특성 공학이라고 부른다."
   ]
  },
  {
   "cell_type": "markdown",
   "id": "instant-occurrence",
   "metadata": {},
   "source": [
    "### - 데이터 준비"
   ]
  },
  {
   "cell_type": "markdown",
   "id": "minus-repeat",
   "metadata": {},
   "source": [
    "농어의 특성이 3개로 늘어났기 때문에 데이터를 복사해서 붙여넣는 것도 번거롭다.\n",
    "데이터를 불러올때 판다스를 사용하면 아주 편리하다.\n",
    "판다스는 유명한 데이터 분석 라이브러리이다. 데이터프레임은 판다스의 핵심 데이터 구조이다. 넘파이 배열과 비슷하게 다차원 배열을 다룰 수 있지만 훨씬 더 많은 기능을 제공한다.\n",
    "판다스 데이터프레임을 만들기 위해 많이 사용하는 파일은 csv 파일이다. "
   ]
  },
  {
   "cell_type": "markdown",
   "id": "arbitrary-danger",
   "metadata": {},
   "source": [
    "판다스의 read_csv() 함수에 주소를 넣어 주면 데이터를 간편하게 읽을 수 있다. read_csv() 함수로 데이터프레임을 만든 다음 to_numpy() 메서드를 사용해 넘파이 배열로 바꾼다.\n",
    "데이터 출처 : https://github.com/rickiepark/hg-mldl"
   ]
  },
  {
   "cell_type": "code",
   "execution_count": 1,
   "id": "chemical-wrapping",
   "metadata": {},
   "outputs": [],
   "source": [
    "import pandas as pd\n",
    "df = pd.read_csv('/home/jaeyoon89/hg-mldl/perch_full.csv')"
   ]
  },
  {
   "cell_type": "code",
   "execution_count": 2,
   "id": "passing-jacket",
   "metadata": {},
   "outputs": [
    {
     "name": "stdout",
     "output_type": "stream",
     "text": [
      "[[ 8.4   2.11  1.41]\n",
      " [13.7   3.53  2.  ]\n",
      " [15.    3.82  2.43]\n",
      " [16.2   4.59  2.63]\n",
      " [17.4   4.59  2.94]\n",
      " [18.    5.22  3.32]\n",
      " [18.7   5.2   3.12]\n",
      " [19.    5.64  3.05]\n",
      " [19.6   5.14  3.04]\n",
      " [20.    5.08  2.77]\n",
      " [21.    5.69  3.56]\n",
      " [21.    5.92  3.31]\n",
      " [21.    5.69  3.67]\n",
      " [21.3   6.38  3.53]\n",
      " [22.    6.11  3.41]\n",
      " [22.    5.64  3.52]\n",
      " [22.    6.11  3.52]\n",
      " [22.    5.88  3.52]\n",
      " [22.    5.52  4.  ]\n",
      " [22.5   5.86  3.62]\n",
      " [22.5   6.79  3.62]\n",
      " [22.7   5.95  3.63]\n",
      " [23.    5.22  3.63]\n",
      " [23.5   6.28  3.72]\n",
      " [24.    7.29  3.72]\n",
      " [24.    6.38  3.82]\n",
      " [24.6   6.73  4.17]\n",
      " [25.    6.44  3.68]\n",
      " [25.6   6.56  4.24]\n",
      " [26.5   7.17  4.14]\n",
      " [27.3   8.32  5.14]\n",
      " [27.5   7.17  4.34]\n",
      " [27.5   7.05  4.34]\n",
      " [27.5   7.28  4.57]\n",
      " [28.    7.82  4.2 ]\n",
      " [28.7   7.59  4.64]\n",
      " [30.    7.62  4.77]\n",
      " [32.8  10.03  6.02]\n",
      " [34.5  10.26  6.39]\n",
      " [35.   11.49  7.8 ]\n",
      " [36.5  10.88  6.86]\n",
      " [36.   10.61  6.74]\n",
      " [37.   10.84  6.26]\n",
      " [37.   10.57  6.37]\n",
      " [39.   11.14  7.49]\n",
      " [39.   11.14  6.  ]\n",
      " [39.   12.43  7.35]\n",
      " [40.   11.93  7.11]\n",
      " [40.   11.73  7.22]\n",
      " [40.   12.38  7.46]\n",
      " [40.   11.14  6.63]\n",
      " [42.   12.8   6.87]\n",
      " [43.   11.93  7.28]\n",
      " [43.   12.51  7.42]\n",
      " [43.5  12.6   8.14]\n",
      " [44.   12.49  7.6 ]]\n"
     ]
    }
   ],
   "source": [
    "perch_full = df.to_numpy()\n",
    "print(perch_full)"
   ]
  },
  {
   "cell_type": "markdown",
   "id": "meaningful-network",
   "metadata": {},
   "source": [
    "타깃 데이터는 이전과 동일한 방식으로 준비한다."
   ]
  },
  {
   "cell_type": "code",
   "execution_count": 3,
   "id": "talented-adoption",
   "metadata": {},
   "outputs": [],
   "source": [
    "import numpy as np\n",
    "perch_weight = np.array(\n",
    "    [5.9, 32.0, 40.0, 51.5, 70.0, 100.0, 78.0, 80.0, 85.0, 85.0, \n",
    "     110.0, 115.0, 125.0, 130.0, 120.0, 120.0, 130.0, 135.0, 110.0, \n",
    "     130.0, 150.0, 145.0, 150.0, 170.0, 225.0, 145.0, 188.0, 180.0, \n",
    "     197.0, 218.0, 300.0, 260.0, 265.0, 250.0, 250.0, 300.0, 320.0, \n",
    "     514.0, 556.0, 840.0, 685.0, 700.0, 700.0, 690.0, 900.0, 650.0, \n",
    "     820.0, 850.0, 900.0, 1015.0, 820.0, 1100.0, 1000.0, 1100.0, \n",
    "     1000.0, 1000.0]\n",
    "     )"
   ]
  },
  {
   "cell_type": "markdown",
   "id": "iraqi-disabled",
   "metadata": {},
   "source": [
    "그 다음 perch_full과 perch_weight를 훈련 세트와 테스트 세트로 나눈다."
   ]
  },
  {
   "cell_type": "code",
   "execution_count": 4,
   "id": "exposed-banking",
   "metadata": {},
   "outputs": [],
   "source": [
    "from sklearn.model_selection import train_test_split\n",
    "train_input, test_input, train_target, test_target = train_test_split(perch_full, perch_weight, random_state=42)"
   ]
  },
  {
   "cell_type": "markdown",
   "id": "requested-racing",
   "metadata": {},
   "source": [
    "이 데이터를 사용해 새로운 특성을 만들자."
   ]
  },
  {
   "cell_type": "markdown",
   "id": "operating-physics",
   "metadata": {},
   "source": [
    "### - 사이킷런의 변환기"
   ]
  },
  {
   "cell_type": "markdown",
   "id": "organized-butterfly",
   "metadata": {},
   "source": [
    "사이킷런은 특성을 만들거나 전처리하기 위한 다양한 클래스를 제공한다. 사이킷런에서는 이런 클래스를 변환기(transformer)라고 부른다. 변환기 클래스는 모두 fit(), transform() 메서드를 제공한다."
   ]
  },
  {
   "cell_type": "markdown",
   "id": "italic-provincial",
   "metadata": {},
   "source": [
    "우리가 사용할 변환기는 PolynomialFeatures 클래스이다. 이 클래스는 sklearn.preprocessing 패키지에 포함되어 있다."
   ]
  },
  {
   "cell_type": "code",
   "execution_count": 5,
   "id": "possible-calculation",
   "metadata": {},
   "outputs": [],
   "source": [
    "from sklearn.preprocessing import PolynomialFeatures"
   ]
  },
  {
   "cell_type": "markdown",
   "id": "interior-spread",
   "metadata": {},
   "source": [
    "2개의 특성 2와 3으로 이루어진 샘플 하나를 적용해보자. 앞서 이야기한 것처럼 이 클래스의 객체를 만든 다음 fit(), transform() 메서드를 차례대로 호출한다."
   ]
  },
  {
   "cell_type": "code",
   "execution_count": 6,
   "id": "apparent-farming",
   "metadata": {},
   "outputs": [
    {
     "name": "stdout",
     "output_type": "stream",
     "text": [
      "[[1. 2. 3. 4. 6. 9.]]\n"
     ]
    }
   ],
   "source": [
    "poly = PolynomialFeatures()\n",
    "poly.fit([[2,3]])\n",
    "print(poly.transform([[2,3]]))"
   ]
  },
  {
   "cell_type": "markdown",
   "id": "likely-flower",
   "metadata": {},
   "source": [
    "fit() 메서드는 새롭게 만들 특성 조합을 찾고 transform() 메서드는 실제로 데이터를 변환한다. 변환기는 입력 데이터를 변환하는 데 타깃 데이터가 필요하지 않다. 따라서 모델 클래스와는 다르게 fit() 메서드에 입력 데이터만 전달했다. 즉 여기에서 2개의 특성을 가진 샘플 [2,3]이 6개의 특성을 가진 샘플 [1,2,3,4,6,9]로 바뀌었다."
   ]
  },
  {
   "cell_type": "markdown",
   "id": "modular-proceeding",
   "metadata": {},
   "source": [
    "PolynomialFeatures 클래스는 각 특성을 제곱한 항을 추가하고 특성끼리 서로 곱한 항을 추가한다. 1은 왜 추가 되었을까? 사실 선형 방정식의 절편을 항상 값이 1인 특성과 곱해지는 계수라고 볼 수 있다. 하지만 사이킷런의 선형 모델은 자동으로 절편을 추가하므로 굳이 이렇게 특성을 만들 필요는 없다. include_bias=False로 지정하여 다시 특성을 변환하자."
   ]
  },
  {
   "cell_type": "code",
   "execution_count": 7,
   "id": "personalized-burning",
   "metadata": {},
   "outputs": [
    {
     "name": "stdout",
     "output_type": "stream",
     "text": [
      "[[2. 3. 4. 6. 9.]]\n"
     ]
    }
   ],
   "source": [
    "poly = PolynomialFeatures(include_bias = False)\n",
    "poly.fit([[2,3]])\n",
    "print(poly.transform([[2,3]]))"
   ]
  },
  {
   "cell_type": "markdown",
   "id": "collected-clinton",
   "metadata": {},
   "source": [
    "이제 이 방식으로 train_input에 적용해보자. 그리고 이 배열의 크기를 확인해 보자."
   ]
  },
  {
   "cell_type": "code",
   "execution_count": 8,
   "id": "artificial-ghost",
   "metadata": {},
   "outputs": [
    {
     "name": "stdout",
     "output_type": "stream",
     "text": [
      "(42, 9)\n"
     ]
    }
   ],
   "source": [
    "poly = PolynomialFeatures(include_bias=False)\n",
    "\n",
    "poly.fit(train_input)\n",
    "train_poly = poly.transform(train_input)\n",
    "print(train_poly.shape)"
   ]
  },
  {
   "cell_type": "markdown",
   "id": "informed-steam",
   "metadata": {},
   "source": [
    "PolynomailFeatures 클래스는 9개의 특성이 어떻게 만들어졌는지 확인하는 아주 좋은 방법을 제공한다. 다음처럼 get_feature_names() 메서드를 호출하면 9개의 특성이 각각 어떤 입력의 조합으로 만들어졌는지 알려준다."
   ]
  },
  {
   "cell_type": "code",
   "execution_count": 9,
   "id": "attended-indicator",
   "metadata": {},
   "outputs": [
    {
     "data": {
      "text/plain": [
       "['x0', 'x1', 'x2', 'x0^2', 'x0 x1', 'x0 x2', 'x1^2', 'x1 x2', 'x2^2']"
      ]
     },
     "execution_count": 9,
     "metadata": {},
     "output_type": "execute_result"
    }
   ],
   "source": [
    "poly.get_feature_names()"
   ]
  },
  {
   "cell_type": "markdown",
   "id": "ceramic-import",
   "metadata": {},
   "source": [
    "x0은 첫 번째 특성을 의미하고, x0^2는 첫 번째 특성이 제곱, x0, x1은 첫 번째 특성과 두 번째 특성의 곱을 나타내는 식이다. 이제 테스트 세트를 변환하자."
   ]
  },
  {
   "cell_type": "code",
   "execution_count": 10,
   "id": "accompanied-appraisal",
   "metadata": {},
   "outputs": [],
   "source": [
    "test_poly = poly.transform(test_input)"
   ]
  },
  {
   "cell_type": "markdown",
   "id": "concrete-shield",
   "metadata": {},
   "source": [
    "이어서 변환된 특성을 사용하여 다중 회귀 모델을 훈련해보자."
   ]
  },
  {
   "cell_type": "markdown",
   "id": "ranking-database",
   "metadata": {},
   "source": [
    "### - 다중 회귀 모델 훈련하기"
   ]
  },
  {
   "cell_type": "markdown",
   "id": "liquid-marshall",
   "metadata": {},
   "source": [
    "다중 회귀 모델을 훈련하는 것은 선형 회귀 모델을 훈련하는 것과 같다. 다만 여러 개의 특성을 사용하여 선형 회귀를 수행하는 것 뿐이다. 먼저 사이킷런의 LinearRegression 클래스를 임포트하고 앞에서 만든 train_poly를 사용해 모델을 훈련시켜 보자."
   ]
  },
  {
   "cell_type": "code",
   "execution_count": 11,
   "id": "typical-insured",
   "metadata": {},
   "outputs": [
    {
     "data": {
      "text/plain": [
       "LinearRegression()"
      ]
     },
     "execution_count": 11,
     "metadata": {},
     "output_type": "execute_result"
    }
   ],
   "source": [
    "from sklearn.linear_model import LinearRegression\n",
    "lr = LinearRegression()\n",
    "lr.fit(train_poly, train_target)"
   ]
  },
  {
   "cell_type": "code",
   "execution_count": 12,
   "id": "behind-latin",
   "metadata": {},
   "outputs": [
    {
     "name": "stdout",
     "output_type": "stream",
     "text": [
      "0.9903183436982124\n"
     ]
    }
   ],
   "source": [
    "print(lr.score(train_poly, train_target))"
   ]
  },
  {
   "cell_type": "markdown",
   "id": "blocked-church",
   "metadata": {},
   "source": [
    "점수가 높게 나왔다. 농어의 길이뿐만 아니라 높이와 두께를 모두 사용했고 각 특성을 제곱하거나 서로 곱해서 다항 특성을 추가했다. 특성이 늘어나면 선형 회귀의 능력은 매우 강하다는 것을 알 수 있다.\n",
    "테스트 세트에 대한 점수도 확인해보자."
   ]
  },
  {
   "cell_type": "code",
   "execution_count": 13,
   "id": "numeric-flush",
   "metadata": {},
   "outputs": [
    {
     "name": "stdout",
     "output_type": "stream",
     "text": [
      "0.9714559911594199\n"
     ]
    }
   ],
   "source": [
    "print(lr.score(test_poly, test_target))"
   ]
  },
  {
   "cell_type": "markdown",
   "id": "hired-brass",
   "metadata": {},
   "source": [
    "테스트 세트에 대한 점수는 높아지지 않았지만 농어의 길이만 사용했을 때 있던 과소적합 문제는 더이상 나타나지 않았따.\n",
    "PolynomialFeatures 클래스의 degree 매개변수를 사용하여 필요한 고차항의 최대 차수를 지정할 수 있다. 5제곱까지 특성을 만들어 출력해 보자."
   ]
  },
  {
   "cell_type": "code",
   "execution_count": 14,
   "id": "solved-germany",
   "metadata": {},
   "outputs": [
    {
     "name": "stdout",
     "output_type": "stream",
     "text": [
      "(42, 55)\n"
     ]
    }
   ],
   "source": [
    "poly = PolynomialFeatures(degree=5, include_bias=False)\n",
    "poly.fit(train_input)\n",
    "train_poly = poly.transform(train_input)\n",
    "test_poly = poly.transform(test_input)\n",
    "print(train_poly.shape)"
   ]
  },
  {
   "cell_type": "markdown",
   "id": "subsequent-language",
   "metadata": {},
   "source": [
    "특성의 개수가 55개가 나온다.이 데이터를 사용해 선형 회귀 모델을 다시 훈련하자."
   ]
  },
  {
   "cell_type": "code",
   "execution_count": 15,
   "id": "gross-spotlight",
   "metadata": {},
   "outputs": [
    {
     "name": "stdout",
     "output_type": "stream",
     "text": [
      "0.9999999999997522\n"
     ]
    }
   ],
   "source": [
    "lr.fit(train_poly, train_target)\n",
    "print(lr.score(train_poly, train_target))"
   ]
  },
  {
   "cell_type": "markdown",
   "id": "steady-variable",
   "metadata": {},
   "source": [
    "거의 완벽한 점수가 나왔다. 테스트 점수도 확인해보자."
   ]
  },
  {
   "cell_type": "code",
   "execution_count": 16,
   "id": "circular-evanescence",
   "metadata": {},
   "outputs": [
    {
     "name": "stdout",
     "output_type": "stream",
     "text": [
      "-144.40564434202673\n"
     ]
    }
   ],
   "source": [
    "print(lr.score(test_poly, test_target))"
   ]
  },
  {
   "cell_type": "markdown",
   "id": "indoor-summit",
   "metadata": {},
   "source": [
    "아주 큰 음수가 나왔다. 특성의 개수를 크게 늘리면 선형 모델은 아주 강력해진다. 훈련 세트에 대해선 거의 완벽하게 학습할 수 있다. 하지만 이런 모델은 훈련 세트에 너무 과대적합되므로 테스트 세트에서는 형편없는 점수를 만든다."
   ]
  },
  {
   "cell_type": "markdown",
   "id": "numerical-vacuum",
   "metadata": {},
   "source": [
    "이 문제를 해결하려면 다시 특성을 줄여야한다. "
   ]
  },
  {
   "cell_type": "markdown",
   "id": "statistical-party",
   "metadata": {},
   "source": [
    "### - 규제"
   ]
  },
  {
   "cell_type": "markdown",
   "id": "sealed-plastic",
   "metadata": {},
   "source": [
    "규제는 머신러닝 모델이 훈련 세트를 너무 과도하게 학습하지 못하도록 훼방하는 것을 말한다. 즉 모델이 훈련 세트에 과대적합되지 않도록 만드는 것이다. 선형 회귀 모델의 경우 특성에 곱해지는 계수의 크기를 작게 만드는 일이다."
   ]
  },
  {
   "cell_type": "markdown",
   "id": "registered-flexibility",
   "metadata": {},
   "source": [
    "앞서 55개의 특성으로 훈련한 선형 회귀 모델의 계수를 규제하여 훈련 세트의 점수를 낮추고 대신 테스트 세트의 점수를 높여보자."
   ]
  },
  {
   "cell_type": "markdown",
   "id": "small-laugh",
   "metadata": {},
   "source": [
    "그전에 특성의 스케일에 대해 생각해 보자. 특성이 스케일이 정규화되지 않으면 여기에 곱해지는 계수 값도 차이 나게 된다. 이번엔 사이킷런에서 제공하는 StandardScaler 클래스를 사용하자. "
   ]
  },
  {
   "cell_type": "code",
   "execution_count": 18,
   "id": "russian-recording",
   "metadata": {},
   "outputs": [],
   "source": [
    "from sklearn.preprocessing import StandardScaler\n",
    "ss = StandardScaler()\n",
    "ss.fit(train_poly)\n",
    "train_scaled = ss.transform(train_poly)\n",
    "test_scaled = ss.transform(test_poly)"
   ]
  },
  {
   "cell_type": "markdown",
   "id": "alternative-transport",
   "metadata": {},
   "source": [
    "먼저 StandardScaler 클래스의 객체 ss를 초기화한 후 PolynomialFeatures 클래스로 만든 train_poly를 사용해 이 객체를 훈련한다. 테스트 세트도 꼭 변환기를 사용해 변환해 주어야 한다."
   ]
  },
  {
   "cell_type": "markdown",
   "id": "vulnerable-cleaner",
   "metadata": {},
   "source": [
    "선형 회귀 모델에 규제를 추가한 모델을 릿지와 라쏘라고 부른다.두 모델은 규제를 가하는 방법이 다르다. 릿지는 계수를 제곱한 값을 기준으로 규제를 적용하고, 라쏘는 계수의 절댓값을 기준으로 규제를 적용한다. 일반적으로 릿지를 더 선호한다. 두 알고리즘 모두 계수의 크기를 줄이지만 라쏘는 아예 0으로 만들 수 있다."
   ]
  },
  {
   "cell_type": "markdown",
   "id": "worth-involvement",
   "metadata": {},
   "source": [
    "### - 릿지 회귀"
   ]
  },
  {
   "cell_type": "markdown",
   "id": "proof-kinase",
   "metadata": {},
   "source": [
    "릿지와 라쏘 모두 sklearn.linear_model 패키지 안에 있다. 앞서 준비한 train_scaled 데이터로 릿지 모델을 훈련해 보자."
   ]
  },
  {
   "cell_type": "code",
   "execution_count": 19,
   "id": "afraid-adult",
   "metadata": {},
   "outputs": [
    {
     "name": "stdout",
     "output_type": "stream",
     "text": [
      "0.9896101671037343\n"
     ]
    }
   ],
   "source": [
    "from sklearn.linear_model import Ridge\n",
    "ridge = Ridge()\n",
    "ridge.fit(train_scaled, train_target)\n",
    "print(ridge.score(train_scaled, train_target))"
   ]
  },
  {
   "cell_type": "code",
   "execution_count": 20,
   "id": "interim-median",
   "metadata": {},
   "outputs": [
    {
     "name": "stdout",
     "output_type": "stream",
     "text": [
      "0.9790693977615391\n"
     ]
    }
   ],
   "source": [
    "print(ridge.score(test_scaled, test_target))"
   ]
  },
  {
   "cell_type": "markdown",
   "id": "cosmetic-procedure",
   "metadata": {},
   "source": [
    "테스트 세트 점수가 정상으로 돌아왔다. 확실히 많은 특성을 사용했음에도 불구하고 훈련 세트에 너무 과대적합되지 않아 테스트 세트에서도 좋은 성능을 나타내고 있다.\n",
    "릿지와 라쏘 모델을 사용할 때 규제의 양을 임의로 조절할 수 있다. 모델 객체를 만들 때 alpha매개변수로 규제의 강도를 조절한다. alpha 값이 크면 규제 강도가 세지므로 계수 값을 더 줄이고 조금 더 과소적합되도록 유도한다. alpha 값이 작으면 계수를 줄이는 역할이 줄어들고 선형 회귀 모델과 유사해지므로 과대적합될 가능성이 크다."
   ]
  },
  {
   "cell_type": "markdown",
   "id": "circular-shadow",
   "metadata": {},
   "source": [
    "적절한 alpha 값을 찾는 한 가지 방법은 alpha 값에 대한 결정계수값의 그래프를 그려 보는 것이다. 훈련 세트와 테스트 세트의 점수가 가장 가까운 지점이 최적의 alpha 값이 된다."
   ]
  },
  {
   "cell_type": "code",
   "execution_count": 21,
   "id": "fourth-newman",
   "metadata": {},
   "outputs": [],
   "source": [
    "import matplotlib.pyplot as plt\n",
    "train_score = []\n",
    "test_score = []"
   ]
  },
  {
   "cell_type": "markdown",
   "id": "medium-williams",
   "metadata": {},
   "source": [
    "아래 코드는 alpha 값을 0.001에서 100까지 10배씩 늘려가며 릿지 회귀 모델을 훈련한 다음 훈련 세트와 테스트 세트의 점수를 파이썬 리스트에 저장한다."
   ]
  },
  {
   "cell_type": "code",
   "execution_count": 22,
   "id": "challenging-plumbing",
   "metadata": {},
   "outputs": [],
   "source": [
    "alpha_list = [0.001, 0.01, 0.1, 1, 10, 100]\n",
    "for alpha in alpha_list:\n",
    "    # 릿지 모델을 만든다.\n",
    "    ridge = Ridge(alpha=alpha)\n",
    "    # 릿지 모델을 훈련한다.\n",
    "    ridge.fit(train_scaled, train_target)\n",
    "    # 훈련 점수와 테스트 점수를 저장합니다\n",
    "    train_score.append(ridge.score(train_scaled, train_target))\n",
    "    test_score.append(ridge.score(test_scaled, test_target))"
   ]
  },
  {
   "cell_type": "markdown",
   "id": "popular-casino",
   "metadata": {},
   "source": [
    "이제 그래프를 그려보자. alpha 값을 0.001부터 10배씩 늘렸기 때문에 이대로 그래프를 그리면 그래프 왼쪽이 너무 촘촘해진다. 그래서 로그함수로 바꾸어 지수로 표현하자. 즉 0.001은 -3, 0.01은 -2가 된다."
   ]
  },
  {
   "cell_type": "code",
   "execution_count": 27,
   "id": "expensive-labor",
   "metadata": {},
   "outputs": [
    {
     "data": {
      "image/png": "[encoded data removed]",
      "text/plain": [
       "<Figure size 432x288 with 1 Axes>"
      ]
     },
     "metadata": {
      "needs_background": "light"
     },
     "output_type": "display_data"
    }
   ],
   "source": [
    "plt.plot(np.log10(alpha_list), train_score)\n",
    "plt.plot(np.log10(alpha_list), test_score)\n",
    "plt.xlabel('alpha')\n",
    "plt.ylabel('R^2')\n",
    "plt.legend(['train_score', 'test_score'])\n",
    "plt.show()"
   ]
  },
  {
   "cell_type": "markdown",
   "id": "threaded-thing",
   "metadata": {},
   "source": [
    "이 그래프 왼쪽을 보면 훈련 세트와 테스트 세트의 점수 차이가 아주 크다. 과대적합의 전형적인 모습이다. 반대로 오른쪽 편은 훈련 세트와 테스트 세트의 점수가 모두 낮아지는 과소적합으로 가는 모습을 보인다. 적절한 두 alpha 값은 두 그래프가 가장가까운 -1 즉 0.1 이다.\n",
    "alpha 값을 0.1로 하여 최종 모델을 훈련하자."
   ]
  },
  {
   "cell_type": "code",
   "execution_count": 28,
   "id": "understanding-preference",
   "metadata": {},
   "outputs": [
    {
     "name": "stdout",
     "output_type": "stream",
     "text": [
      "0.9903815817570367\n",
      "0.9827976465386834\n"
     ]
    }
   ],
   "source": [
    "ridge = Ridge(alpha=0.1)\n",
    "ridge.fit(train_scaled, train_target)\n",
    "print(ridge.score(train_scaled, train_target))\n",
    "print(ridge.score(test_scaled, test_target))"
   ]
  },
  {
   "cell_type": "markdown",
   "id": "adjustable-digit",
   "metadata": {},
   "source": [
    "이 모델은 훈련 세트와 테스트 세트의 점수가 비슷하게 모두 높고 과대적합과 과소적합 사이에서 균형을 맞추고 있다. 이제 라쏘 모델을 훈련해 보자."
   ]
  },
  {
   "cell_type": "markdown",
   "id": "closing-arctic",
   "metadata": {},
   "source": [
    "### - 라쏘 회귀"
   ]
  },
  {
   "cell_type": "markdown",
   "id": "suited-thursday",
   "metadata": {},
   "source": [
    "라쏘 모델을 훈련하는 것은 릿지와 매우 비슷하다."
   ]
  },
  {
   "cell_type": "code",
   "execution_count": 29,
   "id": "bronze-natural",
   "metadata": {},
   "outputs": [
    {
     "name": "stdout",
     "output_type": "stream",
     "text": [
      "0.989789897208096\n"
     ]
    }
   ],
   "source": [
    "from sklearn.linear_model import Lasso\n",
    "\n",
    "lasso = Lasso()\n",
    "lasso.fit(train_scaled, train_target)\n",
    "print(lasso.score(train_scaled, train_target))"
   ]
  },
  {
   "cell_type": "markdown",
   "id": "administrative-legend",
   "metadata": {},
   "source": [
    "라쏘도 과대적합을 잘 억제한 결과를 보여준다. 테스트 세트의 점수도 확인해보자."
   ]
  },
  {
   "cell_type": "code",
   "execution_count": 30,
   "id": "missing-norman",
   "metadata": {},
   "outputs": [
    {
     "name": "stdout",
     "output_type": "stream",
     "text": [
      "0.9800593698421883\n"
     ]
    }
   ],
   "source": [
    "print(lasso.score(test_scaled, test_target))"
   ]
  },
  {
   "cell_type": "markdown",
   "id": "indonesian-cylinder",
   "metadata": {},
   "source": [
    "여기에서도 앞에서와 같이 alpha 값을 바꾸어 가며 훈련 세트와 테스트 세트에 대한 점수를 계산하자."
   ]
  },
  {
   "cell_type": "code",
   "execution_count": 31,
   "id": "revised-browser",
   "metadata": {},
   "outputs": [
    {
     "name": "stderr",
     "output_type": "stream",
     "text": [
      "/home/jaeyoon89/.local/lib/python3.6/site-packages/sklearn/linear_model/_coordinate_descent.py:532: ConvergenceWarning: Objective did not converge. You might want to increase the number of iterations. Duality gap: 18778.697957792876, tolerance: 518.2793833333334\n",
      "  positive)\n",
      "/home/jaeyoon89/.local/lib/python3.6/site-packages/sklearn/linear_model/_coordinate_descent.py:532: ConvergenceWarning: Objective did not converge. You might want to increase the number of iterations. Duality gap: 12972.821345404844, tolerance: 518.2793833333334\n",
      "  positive)\n"
     ]
    }
   ],
   "source": [
    "train_score = []\n",
    "test_score = []\n",
    "alpha_list = [0.001,0.01,0.1,1,10,100]\n",
    "for alpha in alpha_list:\n",
    "    # 라쏘 모델을 만든다.\n",
    "    lasso = Lasso(alpha=alpha, max_iter=10000)\n",
    "    # 라쏘 모델을 훈련한다.\n",
    "    lasso.fit(train_scaled, train_target)\n",
    "    # 훈련 점수와 테스트 점수를 저장한다.\n",
    "    train_score.append(lasso.score(train_scaled, train_target))\n",
    "    test_score.append(lasso.score(test_scaled, test_target))"
   ]
  },
  {
   "cell_type": "markdown",
   "id": "false-mortgage",
   "metadata": {},
   "source": [
    "그다음 train_score와 test_score 리스트를 사용해 그래프를 그리자. 이 그래프도 x축은 로그 스케일로 바꿔 그려보자."
   ]
  },
  {
   "cell_type": "code",
   "execution_count": 33,
   "id": "angry-founder",
   "metadata": {},
   "outputs": [
    {
     "data": {
      "image/png": "[encoded data removed]",
      "text/plain": [
       "<Figure size 432x288 with 1 Axes>"
      ]
     },
     "metadata": {
      "needs_background": "light"
     },
     "output_type": "display_data"
    }
   ],
   "source": [
    "plt.plot(np.log10(alpha_list), train_score)\n",
    "plt.plot(np.log10(alpha_list), test_score)\n",
    "plt.xlabel('alpha')\n",
    "plt.ylabel('R^2')\n",
    "plt.legend(['train_score', 'test_score'])\n",
    "plt.show()"
   ]
  },
  {
   "cell_type": "markdown",
   "id": "surgical-oxygen",
   "metadata": {},
   "source": [
    "이 그래프도 왼쪽은 과대적합을 보여주고 있고 오른쪽으로 갈수록 훈련 세트와 테스트 세트의 점수가 좁혀지고 있다. 가장 오른쪽은 아주 크게 점수가 떨어진다. 이 지점은 분명 과소적합되는 모델일 것이다. 라쏘 모델에서 최적의 alpha 값은 1 즉 10이다. 이 값으로 다시 모델을 훈련해 보자."
   ]
  },
  {
   "cell_type": "code",
   "execution_count": 34,
   "id": "intimate-plastic",
   "metadata": {},
   "outputs": [
    {
     "name": "stdout",
     "output_type": "stream",
     "text": [
      "0.9888067471131867\n",
      "0.9824470598706695\n"
     ]
    }
   ],
   "source": [
    "lasso = Lasso(alpha=10)\n",
    "lasso.fit(train_scaled, train_target)\n",
    "print(lasso.score(train_scaled, train_target))\n",
    "print(lasso.score(test_scaled, test_target))"
   ]
  },
  {
   "cell_type": "markdown",
   "id": "mediterranean-validation",
   "metadata": {},
   "source": [
    "특성을 많이 사용했지만 릿지와 마찬가지로 라쏘 모델이 과대적합을 잘 억제하고 테스트 세트의 성능을 크게 높였다.\n",
    "앞서 라쏘 모델은 계수 값을 아예 0으로 만들 수 있다고 했다. 라쏘 모델의 계수는 coef_속성에 저장되어 있다. 이중에 0인것을 헤아려보자."
   ]
  },
  {
   "cell_type": "code",
   "execution_count": 35,
   "id": "confidential-gauge",
   "metadata": {},
   "outputs": [
    {
     "name": "stdout",
     "output_type": "stream",
     "text": [
      "40\n"
     ]
    }
   ],
   "source": [
    "print(np.sum(lasso.coef_ == 0))"
   ]
  },
  {
   "cell_type": "code",
   "execution_count": null,
   "id": "handmade-franchise",
   "metadata": {},
   "outputs": [],
   "source": []
  }
 ],
 "metadata": {
  "kernelspec": {
   "display_name": "Python 3",
   "language": "python",
   "name": "python3"
  },
  "language_info": {
   "codemirror_mode": {
    "name": "ipython",
    "version": 3
   },
   "file_extension": ".py",
   "mimetype": "text/x-python",
   "name": "python",
   "nbconvert_exporter": "python",
   "pygments_lexer": "ipython3",
   "version": "3.6.9"
  }
 },
 "nbformat": 4,
 "nbformat_minor": 5
}
