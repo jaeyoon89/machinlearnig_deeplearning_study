{
 "cells": [
  {
   "cell_type": "markdown",
   "id": "hollywood-affiliation",
   "metadata": {},
   "source": [
    "<center>\n",
    "<img src=\"https://tensorflowkorea.files.wordpress.com/2020/12/4.-e18492e185a9e186abe1848ce185a1-e18480e185a9e186bce18487e185aee18492e185a1e18482e185b3e186ab-e18486e185a5e18489e185b5e186abe18485e185a5e18482e185b5e186bce18483e185b5e186b8e18485e185a5e.png?w=972\" width=\"200\" height=\"200\"><br>\n",
    "</center>"
   ]
  },
  {
   "cell_type": "markdown",
   "id": "dietary-vietnamese",
   "metadata": {},
   "source": [
    "## 03-2 선형 회귀"
   ]
  },
  {
   "cell_type": "markdown",
   "id": "nasty-gregory",
   "metadata": {},
   "source": [
    "### - k-최근접 이웃의 한계"
   ]
  },
  {
   "cell_type": "markdown",
   "id": "particular-methodology",
   "metadata": {},
   "source": [
    "앞서 사용한 데이터와 모델을 준비하자."
   ]
  },
  {
   "cell_type": "code",
   "execution_count": 1,
   "id": "starting-blend",
   "metadata": {},
   "outputs": [],
   "source": [
    "import numpy as np\n",
    "\n",
    "perch_length = np.array(\n",
    "    [8.4, 13.7, 15.0, 16.2, 17.4, 18.0, 18.7, 19.0, 19.6, 20.0, \n",
    "     21.0, 21.0, 21.0, 21.3, 22.0, 22.0, 22.0, 22.0, 22.0, 22.5, \n",
    "     22.5, 22.7, 23.0, 23.5, 24.0, 24.0, 24.6, 25.0, 25.6, 26.5, \n",
    "     27.3, 27.5, 27.5, 27.5, 28.0, 28.7, 30.0, 32.8, 34.5, 35.0, \n",
    "     36.5, 36.0, 37.0, 37.0, 39.0, 39.0, 39.0, 40.0, 40.0, 40.0, \n",
    "     40.0, 42.0, 43.0, 43.0, 43.5, 44.0]\n",
    "     )\n",
    "perch_weight = np.array(\n",
    "    [5.9, 32.0, 40.0, 51.5, 70.0, 100.0, 78.0, 80.0, 85.0, 85.0, \n",
    "     110.0, 115.0, 125.0, 130.0, 120.0, 120.0, 130.0, 135.0, 110.0, \n",
    "     130.0, 150.0, 145.0, 150.0, 170.0, 225.0, 145.0, 188.0, 180.0, \n",
    "     197.0, 218.0, 300.0, 260.0, 265.0, 250.0, 250.0, 300.0, 320.0, \n",
    "     514.0, 556.0, 840.0, 685.0, 700.0, 700.0, 690.0, 900.0, 650.0, \n",
    "     820.0, 850.0, 900.0, 1015.0, 820.0, 1100.0, 1000.0, 1100.0, \n",
    "     1000.0, 1000.0]\n",
    "     )"
   ]
  },
  {
   "cell_type": "markdown",
   "id": "angry-sunrise",
   "metadata": {},
   "source": [
    "이번 데이터를 훈련세트와 테스트 세트로 나누자. 특성 데이터는 2차원 배열로 변환하자."
   ]
  },
  {
   "cell_type": "code",
   "execution_count": 2,
   "id": "published-architecture",
   "metadata": {},
   "outputs": [],
   "source": [
    "from sklearn.model_selection import train_test_split\n",
    "\n",
    "# 훈련 세트와 테스트 세트로 나누자.\n",
    "train_input, test_input, train_target, test_target = train_test_split(\n",
    "    perch_length, perch_weight, random_state=42)\n",
    "# 훈련 세트와 테스트 세트를 2차원 배열로 바꾸자.\n",
    "train_input = train_input.reshape(-1, 1)\n",
    "test_input = test_input.reshape(-1, 1)"
   ]
  },
  {
   "cell_type": "markdown",
   "id": "athletic-venice",
   "metadata": {},
   "source": [
    "최근접 이웃 개수를 3으로 하는 모델을 훈련하자. "
   ]
  },
  {
   "cell_type": "code",
   "execution_count": 3,
   "id": "level-deposit",
   "metadata": {},
   "outputs": [],
   "source": [
    "from sklearn.neighbors import KNeighborsRegressor"
   ]
  },
  {
   "cell_type": "code",
   "execution_count": 4,
   "id": "instrumental-coach",
   "metadata": {},
   "outputs": [
    {
     "data": {
      "text/plain": [
       "KNeighborsRegressor(n_neighbors=3)"
      ]
     },
     "execution_count": 4,
     "metadata": {},
     "output_type": "execute_result"
    }
   ],
   "source": [
    "knr = KNeighborsRegressor(n_neighbors=3)\n",
    "\n",
    "# k-최근접 이웃 회귀 모델을 훈련한다.\n",
    "knr.fit(train_input, train_target)"
   ]
  },
  {
   "cell_type": "code",
   "execution_count": 5,
   "id": "major-value",
   "metadata": {},
   "outputs": [
    {
     "name": "stdout",
     "output_type": "stream",
     "text": [
      "[1033.33333333]\n"
     ]
    }
   ],
   "source": [
    "print(knr.predict([[50]]))"
   ]
  },
  {
   "cell_type": "markdown",
   "id": "marine-compact",
   "metadata": {},
   "source": [
    "위 모델은 50cm 농어의 무게를 1033g으로 예측했다. 하지만 이 농어의 무게는 실제 더 많이 나간다고 한다. 무엇이 문제일까?"
   ]
  },
  {
   "cell_type": "markdown",
   "id": "executed-filing",
   "metadata": {},
   "source": [
    "훈련 세트와 50cm 농어 그리고 이 농어의 최근접 이웃을 산점도에 표시해보자."
   ]
  },
  {
   "cell_type": "markdown",
   "id": "operating-investigation",
   "metadata": {},
   "source": [
    "앞서 배운 kneighbors() 메서드를 사용하면 가장 가까운 이웃까지의 거리와 이웃 샘플의 인덱스를 얻을 수 있다."
   ]
  },
  {
   "cell_type": "code",
   "execution_count": 6,
   "id": "recent-input",
   "metadata": {},
   "outputs": [],
   "source": [
    "import matplotlib.pyplot as plt"
   ]
  },
  {
   "cell_type": "code",
   "execution_count": 7,
   "id": "purple-russia",
   "metadata": {},
   "outputs": [
    {
     "data": {
      "image/png": "[encoded data removed]",
      "text/plain": [
       "<Figure size 432x288 with 1 Axes>"
      ]
     },
     "metadata": {
      "needs_background": "light"
     },
     "output_type": "display_data"
    }
   ],
   "source": [
    "# 50cm 농어의 이웃을 구한다.\n",
    "distances, indexes = knr.kneighbors([[50]])\n",
    "\n",
    "# 훈련 세트의 산점도를 그린다.\n",
    "plt.scatter(train_input, train_target)\n",
    "# 훈련 세트 중에서 이웃 샘플만 다시 그린다.\n",
    "plt.scatter(train_input[indexes], train_target[indexes], marker='D')\n",
    "# 50cm 농어 데이터\n",
    "plt.scatter(50, 1033, marker='^')\n",
    "plt.xlabel('length')\n",
    "plt.ylabel('weight')\n",
    "plt.show()"
   ]
  },
  {
   "cell_type": "code",
   "execution_count": null,
   "id": "quick-transfer",
   "metadata": {},
   "outputs": [],
   "source": []
  }
 ],
 "metadata": {
  "kernelspec": {
   "display_name": "Python 3",
   "language": "python",
   "name": "python3"
  },
  "language_info": {
   "codemirror_mode": {
    "name": "ipython",
    "version": 3
   },
   "file_extension": ".py",
   "mimetype": "text/x-python",
   "name": "python",
   "nbconvert_exporter": "python",
   "pygments_lexer": "ipython3",
   "version": "3.6.9"
  }
 },
 "nbformat": 4,
 "nbformat_minor": 5
}
